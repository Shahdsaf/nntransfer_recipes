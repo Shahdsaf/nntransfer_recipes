{
 "cells": [
  {
   "cell_type": "code",
   "execution_count": 1,
   "metadata": {},
   "outputs": [],
   "source": [
    "%matplotlib inline\n",
    "%load_ext autoreload\n",
    "%autoreload 2\n",
    "import sys\n",
    "import matplotlib.pyplot as plt\n",
    "import numpy as np\n",
    "import os"
   ]
  },
  {
   "cell_type": "markdown",
   "metadata": {},
   "source": [
    "### Load the experiment and corresponding libraries"
   ]
  },
  {
   "cell_type": "code",
   "execution_count": 3,
   "metadata": {},
   "outputs": [],
   "source": [
    "sys.path.append(\"/\")  # enable import of \"recipe\"\n",
    "os.chdir(\"/work/\")"
   ]
  },
  {
   "cell_type": "code",
   "execution_count": 4,
   "metadata": {},
   "outputs": [
    {
     "name": "stdout",
     "output_type": "stream",
     "text": [
      "Connecting anix@sinzlab.chlkmukhxp6i.eu-central-1.rds.amazonaws.com:3306\n"
     ]
    }
   ],
   "source": [
    "from recipes.main import load_experiment\n",
    "experiment = load_experiment(recipe=\"_2020_04_06_robustness\", \n",
    "                             experiment=\"representation_analysis\", \n",
    "                             schema=\"\",  # schema name will automatically be generated from recipe and experiment names \n",
    "                             base_dir=\"../\", \n",
    "                             import_prefix=\"recipes.\", \n",
    "                             dev_mode=True  \n",
    "                            )"
   ]
  },
  {
   "cell_type": "code",
   "execution_count": 5,
   "metadata": {},
   "outputs": [
    {
     "data": {
      "text/plain": [
       "Schema `anix_nnfabrik_2020_04_06_robustness`"
      ]
     },
     "execution_count": 5,
     "metadata": {},
     "output_type": "execute_result"
    }
   ],
   "source": [
    "from bias_transfer.tables.trained_model import *\n",
    "from bias_transfer.tables.trained_transfer_model import *\n",
    "schema"
   ]
  },
  {
   "cell_type": "code",
   "execution_count": null,
   "metadata": {},
   "outputs": [
    {
     "name": "stdout",
     "output_type": "stream",
     "text": [
      "Files already downloaded and verified\n",
      "Files already downloaded and verified\n",
      "Files already downloaded and verified\n",
      "Model with 23520842 parameters.\n",
      "==> Computing Representations\n",
      "Compute representation of clean input\n"
     ]
    },
    {
     "name": "stderr",
     "output_type": "stream",
     "text": [
      "Eval Epoch 0: 100%|██████████| 79/79 [00:02<00:00, 29.82it/s, acc=91.7, loss=0.302]"
     ]
    },
    {
     "name": "stdout",
     "output_type": "stream",
     "text": [
      "Acc: 91.72 Loss: 0.30173970193048066\n",
      "Compute representation of noisy input\n"
     ]
    },
    {
     "name": "stderr",
     "output_type": "stream",
     "text": [
      "\n",
      "Eval Epoch 0: 100%|██████████| 79/79 [00:02<00:00, 29.55it/s, acc=91.7, loss=0.305]"
     ]
    },
    {
     "name": "stdout",
     "output_type": "stream",
     "text": [
      "Acc: 91.72 Loss: 0.3053683184936077\n"
     ]
    },
    {
     "name": "stderr",
     "output_type": "stream",
     "text": [
      "\n"
     ]
    },
    {
     "name": "stdout",
     "output_type": "stream",
     "text": [
      "Found existing corr result that will be loaded now\n"
     ]
    },
    {
     "name": "stderr",
     "output_type": "stream",
     "text": [
      "/usr/local/lib/python3.7/dist-packages/seaborn/utils.py:279: UserWarning: Use the colorbar set_ticks() method instead.\n",
      "  ax_i.set_yticks(newticks)\n"
     ]
    },
    {
     "name": "stdout",
     "output_type": "stream",
     "text": [
      "==> Computing Representations\n",
      "Representation of clean input already in memory\n",
      "Compute representation of noisy input\n"
     ]
    },
    {
     "name": "stderr",
     "output_type": "stream",
     "text": [
      "Eval Epoch 0: 100%|██████████| 79/79 [00:02<00:00, 28.12it/s, acc=89.8, loss=0.363]"
     ]
    },
    {
     "name": "stdout",
     "output_type": "stream",
     "text": [
      "Acc: 89.76 Loss: 0.3630453273653984\n"
     ]
    },
    {
     "name": "stderr",
     "output_type": "stream",
     "text": [
      "\n"
     ]
    },
    {
     "name": "stdout",
     "output_type": "stream",
     "text": [
      "Found existing corr result that will be loaded now\n",
      "==> Computing Representations\n",
      "Representation of clean input already in memory\n",
      "Compute representation of noisy input\n"
     ]
    },
    {
     "name": "stderr",
     "output_type": "stream",
     "text": [
      "Eval Epoch 0: 100%|██████████| 79/79 [00:02<00:00, 27.90it/s, acc=87.3, loss=0.444]"
     ]
    },
    {
     "name": "stdout",
     "output_type": "stream",
     "text": [
      "Acc: 87.34 Loss: 0.44352841264084925\n"
     ]
    },
    {
     "name": "stderr",
     "output_type": "stream",
     "text": [
      "\n"
     ]
    },
    {
     "name": "stdout",
     "output_type": "stream",
     "text": [
      "Found existing corr result that will be loaded now\n",
      "Files already downloaded and verified\n",
      "Files already downloaded and verified\n",
      "Files already downloaded and verified\n",
      "Model with 23520842 parameters.\n",
      "==> Computing Representations\n",
      "Compute representation of clean input\n"
     ]
    },
    {
     "name": "stderr",
     "output_type": "stream",
     "text": [
      "Eval Epoch 0: 100%|██████████| 79/79 [00:02<00:00, 29.19it/s, acc=90.9, loss=0.343]"
     ]
    },
    {
     "name": "stdout",
     "output_type": "stream",
     "text": [
      "Acc: 90.92 Loss: 0.34330645571403867\n",
      "Compute representation of noisy input\n"
     ]
    },
    {
     "name": "stderr",
     "output_type": "stream",
     "text": [
      "\n",
      "Eval Epoch 0: 100%|██████████| 79/79 [00:02<00:00, 29.68it/s, acc=90.9, loss=0.349]"
     ]
    },
    {
     "name": "stdout",
     "output_type": "stream",
     "text": [
      "Acc: 90.92 Loss: 0.34886042236150067\n"
     ]
    },
    {
     "name": "stderr",
     "output_type": "stream",
     "text": [
      "\n"
     ]
    },
    {
     "name": "stdout",
     "output_type": "stream",
     "text": [
      "tensor(1.0000, device='cuda:0')\n"
     ]
    },
    {
     "name": "stderr",
     "output_type": "stream",
     "text": [
      "/usr/local/lib/python3.7/dist-packages/seaborn/utils.py:279: UserWarning: Use the colorbar set_ticks() method instead.\n",
      "  ax_i.set_yticks(newticks)\n"
     ]
    },
    {
     "name": "stdout",
     "output_type": "stream",
     "text": [
      "==> Computing Representations\n",
      "Representation of clean input already in memory\n",
      "Compute representation of noisy input\n"
     ]
    },
    {
     "name": "stderr",
     "output_type": "stream",
     "text": [
      "Eval Epoch 0: 100%|██████████| 79/79 [00:02<00:00, 31.62it/s, acc=89.3, loss=0.386]"
     ]
    },
    {
     "name": "stdout",
     "output_type": "stream",
     "text": [
      "Acc: 89.28 Loss: 0.3859463777345947\n"
     ]
    },
    {
     "name": "stderr",
     "output_type": "stream",
     "text": [
      "\n"
     ]
    },
    {
     "name": "stdout",
     "output_type": "stream",
     "text": [
      "tensor(1.0000, device='cuda:0')\n",
      "==> Computing Representations\n",
      "Representation of clean input already in memory\n",
      "Compute representation of noisy input\n"
     ]
    },
    {
     "name": "stderr",
     "output_type": "stream",
     "text": [
      "Eval Epoch 0: 100%|██████████| 79/79 [00:02<00:00, 31.68it/s, acc=87.3, loss=0.444]"
     ]
    },
    {
     "name": "stdout",
     "output_type": "stream",
     "text": [
      "Acc: 87.3 Loss: 0.4442837836244438\n"
     ]
    },
    {
     "name": "stderr",
     "output_type": "stream",
     "text": [
      "\n"
     ]
    },
    {
     "name": "stdout",
     "output_type": "stream",
     "text": [
      "tensor(1.0000, device='cuda:0')\n",
      "Files already downloaded and verified\n",
      "Files already downloaded and verified\n",
      "Files already downloaded and verified\n",
      "Model with 23520842 parameters.\n",
      "==> Computing Representations\n",
      "Compute representation of clean input\n"
     ]
    },
    {
     "name": "stderr",
     "output_type": "stream",
     "text": [
      "Eval Epoch 0: 100%|██████████| 79/79 [00:02<00:00, 31.19it/s, acc=91, loss=0.335]  "
     ]
    },
    {
     "name": "stdout",
     "output_type": "stream",
     "text": [
      "Acc: 91.04 Loss: 0.33515480608691145\n",
      "Compute representation of noisy input\n"
     ]
    },
    {
     "name": "stderr",
     "output_type": "stream",
     "text": [
      "\n",
      "Eval Epoch 0: 100%|██████████| 79/79 [00:02<00:00, 31.56it/s, acc=91, loss=0.339]  "
     ]
    },
    {
     "name": "stdout",
     "output_type": "stream",
     "text": [
      "Acc: 91.04 Loss: 0.33867359576346\n"
     ]
    },
    {
     "name": "stderr",
     "output_type": "stream",
     "text": [
      "\n"
     ]
    },
    {
     "name": "stdout",
     "output_type": "stream",
     "text": [
      "tensor(1.0000, device='cuda:0')\n"
     ]
    }
   ],
   "source": [
    "from bias_transfer.analysis.representation_analysis import RepresentationAnalyser\n",
    "\n",
    "for exp in experiment.experiments.values():\n",
    "        analyser = RepresentationAnalyser(experiment=exp,\n",
    "                                          table=TrainedModel(),\n",
    "                                          dataset=\"val\",\n",
    "                                          plot_style=\"lightpaper\")\n",
    "        analyser.run(\"corr\") "
   ]
  },
  {
   "cell_type": "code",
   "execution_count": 6,
   "metadata": {},
   "outputs": [
    {
     "data": {
      "text/plain": [
       "TransferExperiment [\n",
       "  {\n",
       "    \"dataset\": {\n",
       "      \"DatasetConfig\": {\n",
       "        \"apply_augmentation\": true,\n",
       "        \"apply_normalization\": true,\n",
       "        \"batch_size\": 128,\n",
       "        \"comment\": \"CIFAR10\",\n",
       "        \"data_dir\": \"./data/image_classification/torchvision/\",\n",
       "        \"dataset_cls\": \"CIFAR10\",\n",
       "        \"input_size\": 32,\n",
       "        \"num_workers\": 1,\n",
       "        \"pin_memory\": true,\n",
       "        \"show_sample\": false,\n",
       "        \"shuffle\": true,\n",
       "        \"train_data_mean\": [\n",
       "          0.49139968,\n",
       "          0.48215841,\n",
       "          0.44653091\n",
       "        ],\n",
       "        \"train_data_std\": [\n",
       "          0.24703223,\n",
       "          0.24348513,\n",
       "          0.26158784\n",
       "        ],\n",
       "        \"valid_size\": 0.1\n",
       "      }\n",
       "    },\n",
       "    \"model\": {\n",
       "      \"ModelConfig\": {\n",
       "        \"cnn_builder\": \"resnet\",\n",
       "        \"comment\": \"CIFAR10\",\n",
       "        \"conv_stem_kernel_size\": 3,\n",
       "        \"core_stride\": 1,\n",
       "        \"input_size\": 32,\n",
       "        \"noise_adv_classification\": false,\n",
       "        \"noise_adv_regression\": false,\n",
       "        \"num_classes\": 10,\n",
       "        \"pretrained\": false,\n",
       "        \"type\": \"50\"\n",
       "      }\n",
       "    },\n",
       "    \"seed\": 42,\n",
       "    \"trainer\": {\n",
       "      \"TrainerConfig\": {\n",
       "        \"adaptive_lr\": false,\n",
       "        \"add_noise\": true,\n",
       "        \"comment\": \"Noise Augmented\",\n",
       "        \"force_cpu\": false,\n",
       "        \"freeze\": null,\n",
       "        \"lr\": 0.0003,\n",
       "        \"lr_decay\": 0.8,\n",
       "        \"lr_milestones\": [\n",
       "          60,\n",
       "          120,\n",
       "          160\n",
       "        ],\n",
       "        \"momentum\": 0.9,\n",
       "        \"noise_adv_classification\": false,\n",
       "        \"noise_adv_gamma\": 10.0,\n",
       "        \"noise_adv_loss_factor\": 1.0,\n",
       "        \"noise_adv_regression\": false,\n",
       "        \"noise_snr\": null,\n",
       "        \"noise_std\": {\n",
       "          \"-1\": 0.5,\n",
       "          \"0.08\": 0.1,\n",
       "          \"0.12\": 0.1,\n",
       "          \"0.18\": 0.1,\n",
       "          \"0.26\": 0.1,\n",
       "          \"0.38\": 0.1\n",
       "        },\n",
       "        \"noise_test\": {\n",
       "          \"noise_snr\": [\n",
       "            {\n",
       "              \"5.0\": 1.0\n",
       "            },\n",
       "            {\n",
       "              \"4.0\": 1.0\n",
       "            },\n",
       "            {\n",
       "              \"3.0\": 1.0\n",
       "            },\n",
       "            {\n",
       "              \"2.0\": 1.0\n",
       "            },\n",
       "            {\n",
       "              \"1.0\": 1.0\n",
       "            },\n",
       "            {\n",
       "              \"0.5\": 1.0\n",
       "            },\n",
       "            {\n",
       "              \"0.0\": 1.0\n",
       "            }\n",
       "          ],\n",
       "          \"noise_std\": [\n",
       "            {\n",
       "              \"0.0\": 1.0\n",
       "            },\n",
       "            {\n",
       "              \"0.05\": 1.0\n",
       "            },\n",
       "            {\n",
       "              \"0.1\": 1.0\n",
       "            },\n",
       "            {\n",
       "              \"0.2\": 1.0\n",
       "            },\n",
       "            {\n",
       "              \"0.3\": 1.0\n",
       "            },\n",
       "            {\n",
       "              \"0.5\": 1.0\n",
       "            },\n",
       "            {\n",
       "              \"1.0\": 1.0\n",
       "            }\n",
       "          ]\n",
       "        },\n",
       "        \"num_epochs\": 200,\n",
       "        \"optimizer\": \"Adam\",\n",
       "        \"patience\": 10,\n",
       "        \"representation_matching\": null,\n",
       "        \"reset_linear\": false,\n",
       "        \"reset_linear_frequency\": null,\n",
       "        \"threshold\": 0.0001,\n",
       "        \"transfer_from_path\": null,\n",
       "        \"use_tensorboard\": false,\n",
       "        \"verbose\": true,\n",
       "        \"weight_decay\": 0.0005\n",
       "      }\n",
       "    }\n",
       "  },\n",
       "  {\n",
       "    \"dataset\": {\n",
       "      \"DatasetConfig\": {\n",
       "        \"apply_augmentation\": true,\n",
       "        \"apply_normalization\": false,\n",
       "        \"batch_size\": 128,\n",
       "        \"comment\": \"CIFAR10\",\n",
       "        \"data_dir\": \"./data/image_classification/torchvision/\",\n",
       "        \"dataset_cls\": \"CIFAR10\",\n",
       "        \"input_size\": 32,\n",
       "        \"num_workers\": 1,\n",
       "        \"pin_memory\": true,\n",
       "        \"show_sample\": false,\n",
       "        \"shuffle\": true,\n",
       "        \"train_data_mean\": [\n",
       "          0.49139968,\n",
       "          0.48215841,\n",
       "          0.44653091\n",
       "        ],\n",
       "        \"train_data_std\": [\n",
       "          0.24703223,\n",
       "          0.24348513,\n",
       "          0.26158784\n",
       "        ],\n",
       "        \"valid_size\": 0.1\n",
       "      }\n",
       "    },\n",
       "    \"model\": {\n",
       "      \"ModelConfig\": {\n",
       "        \"cnn_builder\": \"resnet\",\n",
       "        \"comment\": \"CIFAR10\",\n",
       "        \"conv_stem_kernel_size\": 3,\n",
       "        \"core_stride\": 1,\n",
       "        \"input_size\": 32,\n",
       "        \"noise_adv_classification\": false,\n",
       "        \"noise_adv_regression\": false,\n",
       "        \"num_classes\": 10,\n",
       "        \"pretrained\": false,\n",
       "        \"type\": \"50\"\n",
       "      }\n",
       "    },\n",
       "    \"seed\": 42,\n",
       "    \"trainer\": {\n",
       "      \"TrainerConfig\": {\n",
       "        \"adaptive_lr\": false,\n",
       "        \"add_noise\": false,\n",
       "        \"comment\": \"Transfer + Reset\",\n",
       "        \"force_cpu\": false,\n",
       "        \"freeze\": [\n",
       "          \"core\"\n",
       "        ],\n",
       "        \"lr\": 0.0003,\n",
       "        \"lr_decay\": 0.8,\n",
       "        \"lr_milestones\": [\n",
       "          60,\n",
       "          120,\n",
       "          160\n",
       "        ],\n",
       "        \"momentum\": 0.9,\n",
       "        \"noise_adv_classification\": false,\n",
       "        \"noise_adv_gamma\": 10.0,\n",
       "        \"noise_adv_loss_factor\": 1.0,\n",
       "        \"noise_adv_regression\": false,\n",
       "        \"noise_snr\": null,\n",
       "        \"noise_std\": null,\n",
       "        \"noise_test\": {\n",
       "          \"noise_snr\": [\n",
       "            {\n",
       "              \"5.0\": 1.0\n",
       "            },\n",
       "            {\n",
       "              \"4.0\": 1.0\n",
       "            },\n",
       "            {\n",
       "              \"3.0\": 1.0\n",
       "            },\n",
       "            {\n",
       "              \"2.0\": 1.0\n",
       "            },\n",
       "            {\n",
       "              \"1.0\": 1.0\n",
       "            },\n",
       "            {\n",
       "              \"0.5\": 1.0\n",
       "            },\n",
       "            {\n",
       "              \"0.0\": 1.0\n",
       "            }\n",
       "          ],\n",
       "          \"noise_std\": [\n",
       "            {\n",
       "              \"0.0\": 1.0\n",
       "            },\n",
       "            {\n",
       "              \"0.05\": 1.0\n",
       "            },\n",
       "            {\n",
       "              \"0.1\": 1.0\n",
       "            },\n",
       "            {\n",
       "              \"0.2\": 1.0\n",
       "            },\n",
       "            {\n",
       "              \"0.3\": 1.0\n",
       "            },\n",
       "            {\n",
       "              \"0.5\": 1.0\n",
       "            },\n",
       "            {\n",
       "              \"1.0\": 1.0\n",
       "            }\n",
       "          ]\n",
       "        },\n",
       "        \"num_epochs\": 200,\n",
       "        \"optimizer\": \"Adam\",\n",
       "        \"patience\": 10,\n",
       "        \"representation_matching\": null,\n",
       "        \"reset_linear\": true,\n",
       "        \"reset_linear_frequency\": null,\n",
       "        \"threshold\": 0.0001,\n",
       "        \"transfer_from_path\": null,\n",
       "        \"use_tensorboard\": false,\n",
       "        \"verbose\": true,\n",
       "        \"weight_decay\": 0.0005\n",
       "      }\n",
       "    }\n",
       "  }\n",
       "]"
      ]
     },
     "execution_count": 6,
     "metadata": {},
     "output_type": "execute_result"
    }
   ],
   "source": [
    "exp"
   ]
  },
  {
   "cell_type": "code",
   "execution_count": 7,
   "metadata": {},
   "outputs": [
    {
     "data": {
      "text/html": [
       "\n",
       "        \n",
       "        <style type=\"text/css\">\n",
       "            .Relation{\n",
       "                border-collapse:collapse;\n",
       "            }\n",
       "            .Relation th{\n",
       "                background: #A0A0A0; color: #ffffff; padding:4px; border:#f0e0e0 1px solid;\n",
       "                font-weight: normal; font-family: monospace; font-size: 100%;\n",
       "            }\n",
       "            .Relation td{\n",
       "                padding:4px; border:#f0e0e0 1px solid; font-size:100%;\n",
       "            }\n",
       "            .Relation tr:nth-child(odd){\n",
       "                background: #ffffff;\n",
       "            }\n",
       "            .Relation tr:nth-child(even){\n",
       "                background: #f3f1ff;\n",
       "            }\n",
       "            /* Tooltip container */\n",
       "            .djtooltip {\n",
       "            }\n",
       "            /* Tooltip text */\n",
       "            .djtooltip .djtooltiptext {\n",
       "                visibility: hidden;\n",
       "                width: 120px;\n",
       "                background-color: black;\n",
       "                color: #fff;\n",
       "                text-align: center;\n",
       "                padding: 5px 0;\n",
       "                border-radius: 6px;\n",
       "                /* Position the tooltip text - see examples below! */\n",
       "                position: absolute;\n",
       "                z-index: 1;\n",
       "            }\n",
       "            #primary {\n",
       "                font-weight: bold;\n",
       "                color: black;\n",
       "            }\n",
       "\n",
       "            #nonprimary {\n",
       "                font-weight: normal;\n",
       "                color: white;\n",
       "            }\n",
       "\n",
       "            /* Show the tooltip text when you mouse over the tooltip container */\n",
       "            .djtooltip:hover .djtooltiptext {\n",
       "                visibility: visible;\n",
       "            }\n",
       "        </style>\n",
       "        \n",
       "        <b>job reservation table for `anix_nnfabrik_2020_04_06_robustness`</b>\n",
       "            <div style=\"max-height:1000px;max-width:1500px;overflow:auto;\">\n",
       "            <table border=\"1\" class=\"Relation\">\n",
       "                <thead> <tr style=\"text-align: right;\"> <th> <div class=\"djtooltip\">\n",
       "                                <p id=\"primary\">table_name</p>\n",
       "                                <span class=\"djtooltiptext\">className of the table</span>\n",
       "                            </div></th><th><div class=\"djtooltip\">\n",
       "                                <p id=\"primary\">key_hash</p>\n",
       "                                <span class=\"djtooltiptext\">key hash</span>\n",
       "                            </div></th><th><div class=\"djtooltip\">\n",
       "                                <p id=\"nonprimary\">status</p>\n",
       "                                <span class=\"djtooltiptext\">if tuple is missing, the job is available</span>\n",
       "                            </div></th><th><div class=\"djtooltip\">\n",
       "                                <p id=\"nonprimary\">key</p>\n",
       "                                <span class=\"djtooltiptext\">structure containing the key</span>\n",
       "                            </div></th><th><div class=\"djtooltip\">\n",
       "                                <p id=\"nonprimary\">error_message</p>\n",
       "                                <span class=\"djtooltiptext\">error message returned if failed</span>\n",
       "                            </div></th><th><div class=\"djtooltip\">\n",
       "                                <p id=\"nonprimary\">error_stack</p>\n",
       "                                <span class=\"djtooltiptext\">error stack if failed</span>\n",
       "                            </div></th><th><div class=\"djtooltip\">\n",
       "                                <p id=\"nonprimary\">user</p>\n",
       "                                <span class=\"djtooltiptext\">database user</span>\n",
       "                            </div></th><th><div class=\"djtooltip\">\n",
       "                                <p id=\"nonprimary\">host</p>\n",
       "                                <span class=\"djtooltiptext\">system hostname</span>\n",
       "                            </div></th><th><div class=\"djtooltip\">\n",
       "                                <p id=\"nonprimary\">pid</p>\n",
       "                                <span class=\"djtooltiptext\">system process id</span>\n",
       "                            </div></th><th><div class=\"djtooltip\">\n",
       "                                <p id=\"nonprimary\">connection_id</p>\n",
       "                                <span class=\"djtooltiptext\">connection_id()</span>\n",
       "                            </div></th><th><div class=\"djtooltip\">\n",
       "                                <p id=\"nonprimary\">timestamp</p>\n",
       "                                <span class=\"djtooltiptext\">automatic timestamp</span>\n",
       "                            </div> </th> </tr> </thead>\n",
       "                <tbody> <tr> <td>__trained_model</td>\n",
       "<td>55695c8863cb60591aac744ad05a613f</td>\n",
       "<td>reserved</td>\n",
       "<td>=BLOB=</td>\n",
       "<td></td>\n",
       "<td>=BLOB=</td>\n",
       "<td>anix@134.2.168.54</td>\n",
       "<td>93da8d04af04</td>\n",
       "<td>1</td>\n",
       "<td>34194</td>\n",
       "<td>2020-04-07 09:45:45</td></tr><tr><td>__trained_model</td>\n",
       "<td>6fe69883893dab2e849c16246628974e</td>\n",
       "<td>reserved</td>\n",
       "<td>=BLOB=</td>\n",
       "<td></td>\n",
       "<td>=BLOB=</td>\n",
       "<td>anix@134.2.168.54</td>\n",
       "<td>0b1c5ebd4b08</td>\n",
       "<td>1</td>\n",
       "<td>34196</td>\n",
       "<td>2020-04-07 09:46:12</td></tr><tr><td>__trained_model</td>\n",
       "<td>71c19c311e7cd3aa75db4b0bf51328f0</td>\n",
       "<td>reserved</td>\n",
       "<td>=BLOB=</td>\n",
       "<td></td>\n",
       "<td>=BLOB=</td>\n",
       "<td>anix@134.2.168.54</td>\n",
       "<td>ec1fb03cb6a7</td>\n",
       "<td>1</td>\n",
       "<td>34197</td>\n",
       "<td>2020-04-07 12:55:52</td></tr><tr><td>__trained_model</td>\n",
       "<td>d01de79925102d81b599db45b86475d2</td>\n",
       "<td>reserved</td>\n",
       "<td>=BLOB=</td>\n",
       "<td></td>\n",
       "<td>=BLOB=</td>\n",
       "<td>anix@134.2.168.54</td>\n",
       "<td>d661599c3bf8</td>\n",
       "<td>1</td>\n",
       "<td>34195</td>\n",
       "<td>2020-04-07 12:45:32</td> </tr> </tbody>\n",
       "            </table>\n",
       "            \n",
       "            <p>Total: 4</p></div>\n",
       "            "
      ],
      "text/plain": [
       "*table_name    *key_hash      status       key        error_message  error_stac user           host           pid     connection_id  timestamp     \n",
       "+------------+ +------------+ +----------+ +--------+ +------------+ +--------+ +------------+ +------------+ +-----+ +------------+ +------------+\n",
       "__trained_mode 55695c8863cb60 reserved     =BLOB=                    =BLOB=     anix@134.2.168 93da8d04af04   1       34194          2020-04-07 09:\n",
       "__trained_mode 6fe69883893dab reserved     =BLOB=                    =BLOB=     anix@134.2.168 0b1c5ebd4b08   1       34196          2020-04-07 09:\n",
       "__trained_mode 71c19c311e7cd3 reserved     =BLOB=                    =BLOB=     anix@134.2.168 ec1fb03cb6a7   1       34197          2020-04-07 12:\n",
       "__trained_mode d01de79925102d reserved     =BLOB=                    =BLOB=     anix@134.2.168 d661599c3bf8   1       34195          2020-04-07 12:\n",
       " (Total: 4)"
      ]
     },
     "execution_count": 7,
     "metadata": {},
     "output_type": "execute_result"
    }
   ],
   "source": [
    "schema.jobs"
   ]
  },
  {
   "cell_type": "markdown",
   "metadata": {},
   "source": [
    "#### Let's take a look at the individual experiments:"
   ]
  },
  {
   "cell_type": "code",
   "execution_count": 4,
   "metadata": {},
   "outputs": [
    {
     "data": {
      "text/plain": [
       "dict_keys([Description(name='ResNet: Clean', seed=8), Description(name='ResNet: Noise Augmented', seed=8), Description(name='ResNet: Transfer', seed=8), Description(name='ResNet: Noise Augmented + Repr. Matching', seed=8), Description(name='VGG: Clean', seed=8), Description(name='VGG: Noise Augmented', seed=8), Description(name='VGG: Transfer', seed=8), Description(name='VGG: Noise Augmented + Repr. Matching', seed=8), Description(name='ResNet: Clean', seed=13), Description(name='ResNet: Noise Augmented', seed=13), Description(name='ResNet: Transfer', seed=13), Description(name='ResNet: Noise Augmented + Repr. Matching', seed=13), Description(name='VGG: Clean', seed=13), Description(name='VGG: Noise Augmented', seed=13), Description(name='VGG: Transfer', seed=13), Description(name='VGG: Noise Augmented + Repr. Matching', seed=13), Description(name='ResNet: Clean', seed=42), Description(name='ResNet: Noise Augmented', seed=42), Description(name='ResNet: Transfer', seed=42), Description(name='ResNet: Noise Augmented + Repr. Matching', seed=42), Description(name='VGG: Clean', seed=42), Description(name='VGG: Noise Augmented', seed=42), Description(name='VGG: Transfer', seed=42), Description(name='VGG: Noise Augmented + Repr. Matching', seed=42), Description(name='TinyImageNet', seed=8), Description(name='TinyImageNet Noise Augmented', seed=8), Description(name='TinyImageNet Transfer', seed=8), Description(name='TinyImageNet (RMSprop)', seed=8), Description(name='TinyImageNet Noise Augmented (RMSprop)', seed=8), Description(name='TinyImageNet Transfer (RMSprop)', seed=8), Description(name='TinyImageNet Noise Augmented + Repr. Matching (Euclid, (0,0.5))(RMSprop)', seed=8), Description(name='TinyImageNet', seed=13), Description(name='TinyImageNet Noise Augmented', seed=13), Description(name='TinyImageNet Transfer', seed=13), Description(name='TinyImageNet (RMSprop)', seed=13), Description(name='TinyImageNet Noise Augmented (RMSprop)', seed=13), Description(name='TinyImageNet Transfer (RMSprop)', seed=13), Description(name='TinyImageNet Noise Augmented + Repr. Matching (Euclid, (0,0.5))(RMSprop)', seed=13), Description(name='TinyImageNet', seed=42), Description(name='TinyImageNet Noise Augmented', seed=42), Description(name='TinyImageNet Transfer', seed=42), Description(name='TinyImageNet (RMSprop)', seed=42), Description(name='TinyImageNet Noise Augmented (RMSprop)', seed=42), Description(name='TinyImageNet Transfer (RMSprop)', seed=42), Description(name='TinyImageNet Noise Augmented + Repr. Matching (Euclid, (0,0.5))(RMSprop)', seed=42), Description(name='CIFAR10: Clean', seed=42), Description(name='CIFAR10: Noise Augmented', seed=42), Description(name='CIFAR10: Noise Augmented + Repr. Matching', seed=42), Description(name='CIFAR10: Noise Augmented + Repr. Matching (Euclid, (0,0.5))', seed=42), Description(name='CIFAR10: Noise Augmented + Noise Adv Regession', seed=42)])"
      ]
     },
     "execution_count": 4,
     "metadata": {},
     "output_type": "execute_result"
    }
   ],
   "source": [
    "experiment.experiments.keys()"
   ]
  },
  {
   "cell_type": "markdown",
   "metadata": {},
   "source": [
    "#### ...and similarly for the combined transfer experiments:"
   ]
  },
  {
   "cell_type": "code",
   "execution_count": 5,
   "metadata": {},
   "outputs": [
    {
     "data": {
      "text/plain": [
       "dict_keys([Description(name='ResNet: Clean', seed=8), Description(name='ResNet: Noise Augmented -> Transfer', seed=8), Description(name='ResNet: Noise Augmented + Repr Matching -> Transfer', seed=8), Description(name='VGG: Clean', seed=8), Description(name='VGG: Noise Augmented -> Transfer', seed=8), Description(name='VGG: Noise Augmented + Repr Matching -> Transfer', seed=8), Description(name='ResNet: Clean', seed=13), Description(name='ResNet: Noise Augmented -> Transfer', seed=13), Description(name='ResNet: Noise Augmented + Repr Matching -> Transfer', seed=13), Description(name='VGG: Clean', seed=13), Description(name='VGG: Noise Augmented -> Transfer', seed=13), Description(name='VGG: Noise Augmented + Repr Matching -> Transfer', seed=13), Description(name='ResNet: Clean', seed=42), Description(name='ResNet: Noise Augmented -> Transfer', seed=42), Description(name='ResNet: Noise Augmented + Repr Matching -> Transfer', seed=42), Description(name='VGG: Clean', seed=42), Description(name='VGG: Noise Augmented -> Transfer', seed=42), Description(name='VGG: Noise Augmented + Repr Matching -> Transfer', seed=42), Description(name='TinyImageNet: Clean', seed=8), Description(name='TinyImageNet: Noise Augmented -> Transfer', seed=8), Description(name='TinyImageNet: Clean (RMSprop)', seed=8), Description(name='TinyImageNet: Noise Augmented -> Transfer (RMSprop)', seed=8), Description(name='TinyImageNet: Noise Augmented + Repr Matching -> Transfer (RMSprop)', seed=8), Description(name='TinyImageNet: Clean', seed=13), Description(name='TinyImageNet: Noise Augmented -> Transfer', seed=13), Description(name='TinyImageNet: Clean (RMSprop)', seed=13), Description(name='TinyImageNet: Noise Augmented -> Transfer (RMSprop)', seed=13), Description(name='TinyImageNet: Noise Augmented + Repr Matching -> Transfer (RMSprop)', seed=13), Description(name='TinyImageNet: Clean', seed=42), Description(name='TinyImageNet: Noise Augmented -> Transfer', seed=42), Description(name='TinyImageNet: Clean (RMSprop)', seed=42), Description(name='TinyImageNet: Noise Augmented -> Transfer (RMSprop)', seed=42), Description(name='TinyImageNet: Noise Augmented + Repr Matching -> Transfer (RMSprop)', seed=42), Description(name='CIFAR10: Noise Augmented -> Transfer (Reset)', seed=42), Description(name='CIFAR10: Noise Augmented + Noise Adv Regession -> Transfer (Reset)', seed=42), Description(name='CIFAR10: Noise Augmented + Repr. Matching (Euclid, (0,0.5)) -> Transfer (Reset)', seed=42), Description(name='CIFAR10: Noise Augmented + Repr. Matching -> Transfer (Reset)', seed=42)])"
      ]
     },
     "execution_count": 5,
     "metadata": {},
     "output_type": "execute_result"
    }
   ],
   "source": [
    "experiment.transfer_experiments.keys()"
   ]
  },
  {
   "cell_type": "markdown",
   "metadata": {},
   "source": [
    "#### How does the specific experiment definition look like? Let's look at an example instance:"
   ]
  },
  {
   "cell_type": "code",
   "execution_count": 6,
   "metadata": {},
   "outputs": [],
   "source": [
    "from bias_transfer.configs.base import Description"
   ]
  },
  {
   "cell_type": "code",
   "execution_count": 7,
   "metadata": {},
   "outputs": [
    {
     "data": {
      "text/plain": [
       "Experiment {\n",
       "  \"dataset\": {\n",
       "    \"DatasetConfig\": {\n",
       "      \"apply_augmentation\": true,\n",
       "      \"apply_normalization\": false,\n",
       "      \"batch_size\": 128,\n",
       "      \"comment\": \"CIFAR10\",\n",
       "      \"data_dir\": \"./data/image_classification/torchvision/\",\n",
       "      \"dataset_cls\": \"CIFAR10\",\n",
       "      \"input_size\": 32,\n",
       "      \"num_workers\": 1,\n",
       "      \"pin_memory\": true,\n",
       "      \"show_sample\": false,\n",
       "      \"shuffle\": true,\n",
       "      \"train_data_mean\": [\n",
       "        0.49139968,\n",
       "        0.48215841,\n",
       "        0.44653091\n",
       "      ],\n",
       "      \"train_data_std\": [\n",
       "        0.24703223,\n",
       "        0.24348513,\n",
       "        0.26158784\n",
       "      ],\n",
       "      \"valid_size\": 0.1\n",
       "    }\n",
       "  },\n",
       "  \"model\": {\n",
       "    \"ModelConfig\": {\n",
       "      \"cnn_builder\": \"resnet\",\n",
       "      \"comment\": \"CIFAR10\",\n",
       "      \"conv_stem_kernel_size\": 3,\n",
       "      \"core_stride\": 1,\n",
       "      \"input_size\": 32,\n",
       "      \"noise_adv_classification\": false,\n",
       "      \"noise_adv_regression\": false,\n",
       "      \"num_classes\": 10,\n",
       "      \"pretrained\": false,\n",
       "      \"type\": \"50\"\n",
       "    }\n",
       "  },\n",
       "  \"seed\": 42,\n",
       "  \"trainer\": {\n",
       "    \"TrainerConfig\": {\n",
       "      \"adaptive_lr\": false,\n",
       "      \"add_noise\": true,\n",
       "      \"comment\": \"Noise Augmented + Repr. Matching\",\n",
       "      \"force_cpu\": false,\n",
       "      \"freeze\": null,\n",
       "      \"lr\": 0.0003,\n",
       "      \"lr_decay\": 0.8,\n",
       "      \"lr_milestones\": [\n",
       "        60,\n",
       "        120,\n",
       "        160\n",
       "      ],\n",
       "      \"momentum\": 0.9,\n",
       "      \"noise_adv_classification\": false,\n",
       "      \"noise_adv_gamma\": 10.0,\n",
       "      \"noise_adv_loss_factor\": 1.0,\n",
       "      \"noise_adv_regression\": false,\n",
       "      \"noise_snr\": null,\n",
       "      \"noise_std\": {\n",
       "        \"-1\": 0.5,\n",
       "        \"0.08\": 0.1,\n",
       "        \"0.12\": 0.1,\n",
       "        \"0.18\": 0.1,\n",
       "        \"0.26\": 0.1,\n",
       "        \"0.38\": 0.1\n",
       "      },\n",
       "      \"noise_test\": {\n",
       "        \"noise_snr\": [\n",
       "          {\n",
       "            \"5.0\": 1.0\n",
       "          },\n",
       "          {\n",
       "            \"4.0\": 1.0\n",
       "          },\n",
       "          {\n",
       "            \"3.0\": 1.0\n",
       "          },\n",
       "          {\n",
       "            \"2.0\": 1.0\n",
       "          },\n",
       "          {\n",
       "            \"1.0\": 1.0\n",
       "          },\n",
       "          {\n",
       "            \"0.5\": 1.0\n",
       "          },\n",
       "          {\n",
       "            \"0.0\": 1.0\n",
       "          }\n",
       "        ],\n",
       "        \"noise_std\": [\n",
       "          {\n",
       "            \"0.0\": 1.0\n",
       "          },\n",
       "          {\n",
       "            \"0.05\": 1.0\n",
       "          },\n",
       "          {\n",
       "            \"0.1\": 1.0\n",
       "          },\n",
       "          {\n",
       "            \"0.2\": 1.0\n",
       "          },\n",
       "          {\n",
       "            \"0.3\": 1.0\n",
       "          },\n",
       "          {\n",
       "            \"0.5\": 1.0\n",
       "          },\n",
       "          {\n",
       "            \"1.0\": 1.0\n",
       "          }\n",
       "        ]\n",
       "      },\n",
       "      \"num_epochs\": 200,\n",
       "      \"optimizer\": \"Adam\",\n",
       "      \"patience\": 10,\n",
       "      \"representation_matching\": {\n",
       "        \"criterion\": \"cosine\",\n",
       "        \"lambda\": 1.0,\n",
       "        \"representation\": \"conv_rep\",\n",
       "        \"second_noise_std\": {\n",
       "          \"(0, 1.0)\": 1.0\n",
       "        }\n",
       "      },\n",
       "      \"reset_linear\": false,\n",
       "      \"reset_linear_frequency\": null,\n",
       "      \"threshold\": 0.0001,\n",
       "      \"transfer_from_path\": null,\n",
       "      \"use_tensorboard\": false,\n",
       "      \"verbose\": true,\n",
       "      \"weight_decay\": 0.0005\n",
       "    }\n",
       "  }\n",
       "}"
      ]
     },
     "execution_count": 7,
     "metadata": {},
     "output_type": "execute_result"
    }
   ],
   "source": [
    "experiment.experiments[Description(name='CIFAR10: Noise Augmented + Repr. Matching', seed=42)]"
   ]
  },
  {
   "cell_type": "code",
   "execution_count": 28,
   "metadata": {},
   "outputs": [
    {
     "name": "stdout",
     "output_type": "stream",
     "text": [
      "> \u001b[0;32m/usr/lib/python3.7/json/encoder.py\u001b[0m(376)\u001b[0;36m_iterencode_dict\u001b[0;34m()\u001b[0m\n",
      "\u001b[0;32m    374 \u001b[0;31m                \u001b[0;32mcontinue\u001b[0m\u001b[0;34m\u001b[0m\u001b[0;34m\u001b[0m\u001b[0m\n",
      "\u001b[0m\u001b[0;32m    375 \u001b[0;31m            \u001b[0;32melse\u001b[0m\u001b[0;34m:\u001b[0m\u001b[0;34m\u001b[0m\u001b[0;34m\u001b[0m\u001b[0m\n",
      "\u001b[0m\u001b[0;32m--> 376 \u001b[0;31m                raise TypeError(f'keys must be str, int, float, bool or None, '\n",
      "\u001b[0m\u001b[0;32m    377 \u001b[0;31m                                f'not {key.__class__.__name__}')\n",
      "\u001b[0m\u001b[0;32m    378 \u001b[0;31m            \u001b[0;32mif\u001b[0m \u001b[0mfirst\u001b[0m\u001b[0;34m:\u001b[0m\u001b[0;34m\u001b[0m\u001b[0;34m\u001b[0m\u001b[0m\n",
      "\u001b[0m\n"
     ]
    },
    {
     "name": "stdin",
     "output_type": "stream",
     "text": [
      "ipdb>  u\n"
     ]
    },
    {
     "name": "stdout",
     "output_type": "stream",
     "text": [
      "> \u001b[0;32m/usr/lib/python3.7/json/encoder.py\u001b[0m(405)\u001b[0;36m_iterencode_dict\u001b[0;34m()\u001b[0m\n",
      "\u001b[0;32m    403 \u001b[0;31m                \u001b[0;32melse\u001b[0m\u001b[0;34m:\u001b[0m\u001b[0;34m\u001b[0m\u001b[0;34m\u001b[0m\u001b[0m\n",
      "\u001b[0m\u001b[0;32m    404 \u001b[0;31m                    \u001b[0mchunks\u001b[0m \u001b[0;34m=\u001b[0m \u001b[0m_iterencode\u001b[0m\u001b[0;34m(\u001b[0m\u001b[0mvalue\u001b[0m\u001b[0;34m,\u001b[0m \u001b[0m_current_indent_level\u001b[0m\u001b[0;34m)\u001b[0m\u001b[0;34m\u001b[0m\u001b[0;34m\u001b[0m\u001b[0m\n",
      "\u001b[0m\u001b[0;32m--> 405 \u001b[0;31m                \u001b[0;32myield\u001b[0m \u001b[0;32mfrom\u001b[0m \u001b[0mchunks\u001b[0m\u001b[0;34m\u001b[0m\u001b[0;34m\u001b[0m\u001b[0m\n",
      "\u001b[0m\u001b[0;32m    406 \u001b[0;31m        \u001b[0;32mif\u001b[0m \u001b[0mnewline_indent\u001b[0m \u001b[0;32mis\u001b[0m \u001b[0;32mnot\u001b[0m \u001b[0;32mNone\u001b[0m\u001b[0;34m:\u001b[0m\u001b[0;34m\u001b[0m\u001b[0;34m\u001b[0m\u001b[0m\n",
      "\u001b[0m\u001b[0;32m    407 \u001b[0;31m            \u001b[0m_current_indent_level\u001b[0m \u001b[0;34m-=\u001b[0m \u001b[0;36m1\u001b[0m\u001b[0;34m\u001b[0m\u001b[0;34m\u001b[0m\u001b[0m\n",
      "\u001b[0m\n"
     ]
    },
    {
     "name": "stdin",
     "output_type": "stream",
     "text": [
      "ipdb>  u\n"
     ]
    },
    {
     "name": "stdout",
     "output_type": "stream",
     "text": [
      "> \u001b[0;32m/usr/lib/python3.7/json/encoder.py\u001b[0m(405)\u001b[0;36m_iterencode_dict\u001b[0;34m()\u001b[0m\n",
      "\u001b[0;32m    403 \u001b[0;31m                \u001b[0;32melse\u001b[0m\u001b[0;34m:\u001b[0m\u001b[0;34m\u001b[0m\u001b[0;34m\u001b[0m\u001b[0m\n",
      "\u001b[0m\u001b[0;32m    404 \u001b[0;31m                    \u001b[0mchunks\u001b[0m \u001b[0;34m=\u001b[0m \u001b[0m_iterencode\u001b[0m\u001b[0;34m(\u001b[0m\u001b[0mvalue\u001b[0m\u001b[0;34m,\u001b[0m \u001b[0m_current_indent_level\u001b[0m\u001b[0;34m)\u001b[0m\u001b[0;34m\u001b[0m\u001b[0;34m\u001b[0m\u001b[0m\n",
      "\u001b[0m\u001b[0;32m--> 405 \u001b[0;31m                \u001b[0;32myield\u001b[0m \u001b[0;32mfrom\u001b[0m \u001b[0mchunks\u001b[0m\u001b[0;34m\u001b[0m\u001b[0;34m\u001b[0m\u001b[0m\n",
      "\u001b[0m\u001b[0;32m    406 \u001b[0;31m        \u001b[0;32mif\u001b[0m \u001b[0mnewline_indent\u001b[0m \u001b[0;32mis\u001b[0m \u001b[0;32mnot\u001b[0m \u001b[0;32mNone\u001b[0m\u001b[0;34m:\u001b[0m\u001b[0;34m\u001b[0m\u001b[0;34m\u001b[0m\u001b[0m\n",
      "\u001b[0m\u001b[0;32m    407 \u001b[0;31m            \u001b[0m_current_indent_level\u001b[0m \u001b[0;34m-=\u001b[0m \u001b[0;36m1\u001b[0m\u001b[0;34m\u001b[0m\u001b[0;34m\u001b[0m\u001b[0m\n",
      "\u001b[0m\n"
     ]
    },
    {
     "name": "stdin",
     "output_type": "stream",
     "text": [
      "ipdb>  u\n"
     ]
    },
    {
     "name": "stdout",
     "output_type": "stream",
     "text": [
      "> \u001b[0;32m/usr/lib/python3.7/json/encoder.py\u001b[0m(325)\u001b[0;36m_iterencode_list\u001b[0;34m()\u001b[0m\n",
      "\u001b[0;32m    323 \u001b[0;31m                \u001b[0;32melse\u001b[0m\u001b[0;34m:\u001b[0m\u001b[0;34m\u001b[0m\u001b[0;34m\u001b[0m\u001b[0m\n",
      "\u001b[0m\u001b[0;32m    324 \u001b[0;31m                    \u001b[0mchunks\u001b[0m \u001b[0;34m=\u001b[0m \u001b[0m_iterencode\u001b[0m\u001b[0;34m(\u001b[0m\u001b[0mvalue\u001b[0m\u001b[0;34m,\u001b[0m \u001b[0m_current_indent_level\u001b[0m\u001b[0;34m)\u001b[0m\u001b[0;34m\u001b[0m\u001b[0;34m\u001b[0m\u001b[0m\n",
      "\u001b[0m\u001b[0;32m--> 325 \u001b[0;31m                \u001b[0;32myield\u001b[0m \u001b[0;32mfrom\u001b[0m \u001b[0mchunks\u001b[0m\u001b[0;34m\u001b[0m\u001b[0;34m\u001b[0m\u001b[0m\n",
      "\u001b[0m\u001b[0;32m    326 \u001b[0;31m        \u001b[0;32mif\u001b[0m \u001b[0mnewline_indent\u001b[0m \u001b[0;32mis\u001b[0m \u001b[0;32mnot\u001b[0m \u001b[0;32mNone\u001b[0m\u001b[0;34m:\u001b[0m\u001b[0;34m\u001b[0m\u001b[0;34m\u001b[0m\u001b[0m\n",
      "\u001b[0m\u001b[0;32m    327 \u001b[0;31m            \u001b[0m_current_indent_level\u001b[0m \u001b[0;34m-=\u001b[0m \u001b[0;36m1\u001b[0m\u001b[0;34m\u001b[0m\u001b[0;34m\u001b[0m\u001b[0m\n",
      "\u001b[0m\n"
     ]
    },
    {
     "name": "stdin",
     "output_type": "stream",
     "text": [
      "ipdb>  u\n"
     ]
    },
    {
     "name": "stdout",
     "output_type": "stream",
     "text": [
      "> \u001b[0;32m/usr/lib/python3.7/json/encoder.py\u001b[0m(405)\u001b[0;36m_iterencode_dict\u001b[0;34m()\u001b[0m\n",
      "\u001b[0;32m    403 \u001b[0;31m                \u001b[0;32melse\u001b[0m\u001b[0;34m:\u001b[0m\u001b[0;34m\u001b[0m\u001b[0;34m\u001b[0m\u001b[0m\n",
      "\u001b[0m\u001b[0;32m    404 \u001b[0;31m                    \u001b[0mchunks\u001b[0m \u001b[0;34m=\u001b[0m \u001b[0m_iterencode\u001b[0m\u001b[0;34m(\u001b[0m\u001b[0mvalue\u001b[0m\u001b[0;34m,\u001b[0m \u001b[0m_current_indent_level\u001b[0m\u001b[0;34m)\u001b[0m\u001b[0;34m\u001b[0m\u001b[0;34m\u001b[0m\u001b[0m\n",
      "\u001b[0m\u001b[0;32m--> 405 \u001b[0;31m                \u001b[0;32myield\u001b[0m \u001b[0;32mfrom\u001b[0m \u001b[0mchunks\u001b[0m\u001b[0;34m\u001b[0m\u001b[0;34m\u001b[0m\u001b[0m\n",
      "\u001b[0m\u001b[0;32m    406 \u001b[0;31m        \u001b[0;32mif\u001b[0m \u001b[0mnewline_indent\u001b[0m \u001b[0;32mis\u001b[0m \u001b[0;32mnot\u001b[0m \u001b[0;32mNone\u001b[0m\u001b[0;34m:\u001b[0m\u001b[0;34m\u001b[0m\u001b[0;34m\u001b[0m\u001b[0m\n",
      "\u001b[0m\u001b[0;32m    407 \u001b[0;31m            \u001b[0m_current_indent_level\u001b[0m \u001b[0;34m-=\u001b[0m \u001b[0;36m1\u001b[0m\u001b[0;34m\u001b[0m\u001b[0;34m\u001b[0m\u001b[0m\n",
      "\u001b[0m\n"
     ]
    },
    {
     "name": "stdin",
     "output_type": "stream",
     "text": [
      "ipdb>  u\n"
     ]
    },
    {
     "name": "stdout",
     "output_type": "stream",
     "text": [
      "> \u001b[0;32m/usr/lib/python3.7/json/encoder.py\u001b[0m(431)\u001b[0;36m_iterencode\u001b[0;34m()\u001b[0m\n",
      "\u001b[0;32m    429 \u001b[0;31m            \u001b[0;32myield\u001b[0m \u001b[0;32mfrom\u001b[0m \u001b[0m_iterencode_list\u001b[0m\u001b[0;34m(\u001b[0m\u001b[0mo\u001b[0m\u001b[0;34m,\u001b[0m \u001b[0m_current_indent_level\u001b[0m\u001b[0;34m)\u001b[0m\u001b[0;34m\u001b[0m\u001b[0;34m\u001b[0m\u001b[0m\n",
      "\u001b[0m\u001b[0;32m    430 \u001b[0;31m        \u001b[0;32melif\u001b[0m \u001b[0misinstance\u001b[0m\u001b[0;34m(\u001b[0m\u001b[0mo\u001b[0m\u001b[0;34m,\u001b[0m \u001b[0mdict\u001b[0m\u001b[0;34m)\u001b[0m\u001b[0;34m:\u001b[0m\u001b[0;34m\u001b[0m\u001b[0;34m\u001b[0m\u001b[0m\n",
      "\u001b[0m\u001b[0;32m--> 431 \u001b[0;31m            \u001b[0;32myield\u001b[0m \u001b[0;32mfrom\u001b[0m \u001b[0m_iterencode_dict\u001b[0m\u001b[0;34m(\u001b[0m\u001b[0mo\u001b[0m\u001b[0;34m,\u001b[0m \u001b[0m_current_indent_level\u001b[0m\u001b[0;34m)\u001b[0m\u001b[0;34m\u001b[0m\u001b[0;34m\u001b[0m\u001b[0m\n",
      "\u001b[0m\u001b[0;32m    432 \u001b[0;31m        \u001b[0;32melse\u001b[0m\u001b[0;34m:\u001b[0m\u001b[0;34m\u001b[0m\u001b[0;34m\u001b[0m\u001b[0m\n",
      "\u001b[0m\u001b[0;32m    433 \u001b[0;31m            \u001b[0;32mif\u001b[0m \u001b[0mmarkers\u001b[0m \u001b[0;32mis\u001b[0m \u001b[0;32mnot\u001b[0m \u001b[0;32mNone\u001b[0m\u001b[0;34m:\u001b[0m\u001b[0;34m\u001b[0m\u001b[0;34m\u001b[0m\u001b[0m\n",
      "\u001b[0m\n"
     ]
    },
    {
     "name": "stdin",
     "output_type": "stream",
     "text": [
      "ipdb>  u\n"
     ]
    },
    {
     "name": "stdout",
     "output_type": "stream",
     "text": [
      "> \u001b[0;32m/usr/lib/python3.7/json/encoder.py\u001b[0m(201)\u001b[0;36mencode\u001b[0;34m()\u001b[0m\n",
      "\u001b[0;32m    199 \u001b[0;31m        \u001b[0mchunks\u001b[0m \u001b[0;34m=\u001b[0m \u001b[0mself\u001b[0m\u001b[0;34m.\u001b[0m\u001b[0miterencode\u001b[0m\u001b[0;34m(\u001b[0m\u001b[0mo\u001b[0m\u001b[0;34m,\u001b[0m \u001b[0m_one_shot\u001b[0m\u001b[0;34m=\u001b[0m\u001b[0;32mTrue\u001b[0m\u001b[0;34m)\u001b[0m\u001b[0;34m\u001b[0m\u001b[0;34m\u001b[0m\u001b[0m\n",
      "\u001b[0m\u001b[0;32m    200 \u001b[0;31m        \u001b[0;32mif\u001b[0m \u001b[0;32mnot\u001b[0m \u001b[0misinstance\u001b[0m\u001b[0;34m(\u001b[0m\u001b[0mchunks\u001b[0m\u001b[0;34m,\u001b[0m \u001b[0;34m(\u001b[0m\u001b[0mlist\u001b[0m\u001b[0;34m,\u001b[0m \u001b[0mtuple\u001b[0m\u001b[0;34m)\u001b[0m\u001b[0;34m)\u001b[0m\u001b[0;34m:\u001b[0m\u001b[0;34m\u001b[0m\u001b[0;34m\u001b[0m\u001b[0m\n",
      "\u001b[0m\u001b[0;32m--> 201 \u001b[0;31m            \u001b[0mchunks\u001b[0m \u001b[0;34m=\u001b[0m \u001b[0mlist\u001b[0m\u001b[0;34m(\u001b[0m\u001b[0mchunks\u001b[0m\u001b[0;34m)\u001b[0m\u001b[0;34m\u001b[0m\u001b[0;34m\u001b[0m\u001b[0m\n",
      "\u001b[0m\u001b[0;32m    202 \u001b[0;31m        \u001b[0;32mreturn\u001b[0m \u001b[0;34m''\u001b[0m\u001b[0;34m.\u001b[0m\u001b[0mjoin\u001b[0m\u001b[0;34m(\u001b[0m\u001b[0mchunks\u001b[0m\u001b[0;34m)\u001b[0m\u001b[0;34m\u001b[0m\u001b[0;34m\u001b[0m\u001b[0m\n",
      "\u001b[0m\u001b[0;32m    203 \u001b[0;31m\u001b[0;34m\u001b[0m\u001b[0m\n",
      "\u001b[0m\n"
     ]
    },
    {
     "name": "stdin",
     "output_type": "stream",
     "text": [
      "ipdb>  u\n"
     ]
    },
    {
     "name": "stdout",
     "output_type": "stream",
     "text": [
      "> \u001b[0;32m/usr/lib/python3.7/json/__init__.py\u001b[0m(238)\u001b[0;36mdumps\u001b[0;34m()\u001b[0m\n",
      "\u001b[0;32m    236 \u001b[0;31m        \u001b[0mcheck_circular\u001b[0m\u001b[0;34m=\u001b[0m\u001b[0mcheck_circular\u001b[0m\u001b[0;34m,\u001b[0m \u001b[0mallow_nan\u001b[0m\u001b[0;34m=\u001b[0m\u001b[0mallow_nan\u001b[0m\u001b[0;34m,\u001b[0m \u001b[0mindent\u001b[0m\u001b[0;34m=\u001b[0m\u001b[0mindent\u001b[0m\u001b[0;34m,\u001b[0m\u001b[0;34m\u001b[0m\u001b[0;34m\u001b[0m\u001b[0m\n",
      "\u001b[0m\u001b[0;32m    237 \u001b[0;31m        \u001b[0mseparators\u001b[0m\u001b[0;34m=\u001b[0m\u001b[0mseparators\u001b[0m\u001b[0;34m,\u001b[0m \u001b[0mdefault\u001b[0m\u001b[0;34m=\u001b[0m\u001b[0mdefault\u001b[0m\u001b[0;34m,\u001b[0m \u001b[0msort_keys\u001b[0m\u001b[0;34m=\u001b[0m\u001b[0msort_keys\u001b[0m\u001b[0;34m,\u001b[0m\u001b[0;34m\u001b[0m\u001b[0;34m\u001b[0m\u001b[0m\n",
      "\u001b[0m\u001b[0;32m--> 238 \u001b[0;31m        **kw).encode(obj)\n",
      "\u001b[0m\u001b[0;32m    239 \u001b[0;31m\u001b[0;34m\u001b[0m\u001b[0m\n",
      "\u001b[0m\u001b[0;32m    240 \u001b[0;31m\u001b[0;34m\u001b[0m\u001b[0m\n",
      "\u001b[0m\n"
     ]
    },
    {
     "name": "stdin",
     "output_type": "stream",
     "text": [
      "ipdb>  u\n"
     ]
    },
    {
     "name": "stdout",
     "output_type": "stream",
     "text": [
      "> \u001b[0;32m/work/bias_transfer/8d7a2c0ebf8bd44222a672921cd1131583369459/bias_transfer/configs/base.py\u001b[0m(185)\u001b[0;36mto_json_string\u001b[0;34m()\u001b[0m\n",
      "\u001b[0;32m    183 \u001b[0;31m        \u001b[0mdict_rep\u001b[0m \u001b[0;34m=\u001b[0m \u001b[0mself\u001b[0m\u001b[0;34m.\u001b[0m\u001b[0mto_dict\u001b[0m\u001b[0;34m(\u001b[0m\u001b[0;34m)\u001b[0m\u001b[0;34m\u001b[0m\u001b[0;34m\u001b[0m\u001b[0m\n",
      "\u001b[0m\u001b[0;32m    184 \u001b[0;31m        \u001b[0mdict_rep\u001b[0m \u001b[0;34m=\u001b[0m \u001b[0mencode_keys\u001b[0m\u001b[0;34m(\u001b[0m\u001b[0mdict_rep\u001b[0m\u001b[0;34m)\u001b[0m\u001b[0;34m\u001b[0m\u001b[0;34m\u001b[0m\u001b[0m\n",
      "\u001b[0m\u001b[0;32m--> 185 \u001b[0;31m        \u001b[0;32mreturn\u001b[0m \u001b[0mjson\u001b[0m\u001b[0;34m.\u001b[0m\u001b[0mdumps\u001b[0m\u001b[0;34m(\u001b[0m\u001b[0mdict_rep\u001b[0m\u001b[0;34m,\u001b[0m \u001b[0mindent\u001b[0m\u001b[0;34m=\u001b[0m\u001b[0;36m2\u001b[0m\u001b[0;34m,\u001b[0m \u001b[0msort_keys\u001b[0m\u001b[0;34m=\u001b[0m\u001b[0;32mTrue\u001b[0m\u001b[0;34m)\u001b[0m \u001b[0;34m+\u001b[0m \u001b[0;34m\"\\n\"\u001b[0m\u001b[0;34m\u001b[0m\u001b[0;34m\u001b[0m\u001b[0m\n",
      "\u001b[0m\u001b[0;32m    186 \u001b[0;31m\u001b[0;34m\u001b[0m\u001b[0m\n",
      "\u001b[0m\u001b[0;32m    187 \u001b[0;31m    \u001b[0;32mdef\u001b[0m \u001b[0mto_json_file\u001b[0m\u001b[0;34m(\u001b[0m\u001b[0mself\u001b[0m\u001b[0;34m,\u001b[0m \u001b[0mjson_file_path\u001b[0m\u001b[0;34m)\u001b[0m\u001b[0;34m:\u001b[0m\u001b[0;34m\u001b[0m\u001b[0;34m\u001b[0m\u001b[0m\n",
      "\u001b[0m\n"
     ]
    },
    {
     "name": "stdin",
     "output_type": "stream",
     "text": [
      "ipdb>  u\n"
     ]
    },
    {
     "name": "stdout",
     "output_type": "stream",
     "text": [
      "> \u001b[0;32m/work/bias_transfer/8d7a2c0ebf8bd44222a672921cd1131583369459/bias_transfer/configs/base.py\u001b[0m(152)\u001b[0;36m__repr__\u001b[0;34m()\u001b[0m\n",
      "\u001b[0;32m    150 \u001b[0;31m\u001b[0;34m\u001b[0m\u001b[0m\n",
      "\u001b[0m\u001b[0;32m    151 \u001b[0;31m    \u001b[0;32mdef\u001b[0m \u001b[0m__repr__\u001b[0m\u001b[0;34m(\u001b[0m\u001b[0mself\u001b[0m\u001b[0;34m)\u001b[0m\u001b[0;34m:\u001b[0m\u001b[0;34m\u001b[0m\u001b[0;34m\u001b[0m\u001b[0m\n",
      "\u001b[0m\u001b[0;32m--> 152 \u001b[0;31m        \u001b[0;32mreturn\u001b[0m \u001b[0;34m\"{} {}\"\u001b[0m\u001b[0;34m.\u001b[0m\u001b[0mformat\u001b[0m\u001b[0;34m(\u001b[0m\u001b[0mself\u001b[0m\u001b[0;34m.\u001b[0m\u001b[0m__class__\u001b[0m\u001b[0;34m.\u001b[0m\u001b[0m__name__\u001b[0m\u001b[0;34m,\u001b[0m \u001b[0mself\u001b[0m\u001b[0;34m.\u001b[0m\u001b[0mto_json_string\u001b[0m\u001b[0;34m(\u001b[0m\u001b[0;34m)\u001b[0m\u001b[0;34m)\u001b[0m\u001b[0;34m\u001b[0m\u001b[0;34m\u001b[0m\u001b[0m\n",
      "\u001b[0m\u001b[0;32m    153 \u001b[0;31m\u001b[0;34m\u001b[0m\u001b[0m\n",
      "\u001b[0m\u001b[0;32m    154 \u001b[0;31m    \u001b[0;32mdef\u001b[0m \u001b[0mto_dict\u001b[0m\u001b[0;34m(\u001b[0m\u001b[0mself\u001b[0m\u001b[0;34m)\u001b[0m\u001b[0;34m:\u001b[0m\u001b[0;34m\u001b[0m\u001b[0;34m\u001b[0m\u001b[0m\n",
      "\u001b[0m\n"
     ]
    },
    {
     "name": "stdin",
     "output_type": "stream",
     "text": [
      "ipdb>  d\n"
     ]
    },
    {
     "name": "stdout",
     "output_type": "stream",
     "text": [
      "> \u001b[0;32m/work/bias_transfer/8d7a2c0ebf8bd44222a672921cd1131583369459/bias_transfer/configs/base.py\u001b[0m(185)\u001b[0;36mto_json_string\u001b[0;34m()\u001b[0m\n",
      "\u001b[0;32m    183 \u001b[0;31m        \u001b[0mdict_rep\u001b[0m \u001b[0;34m=\u001b[0m \u001b[0mself\u001b[0m\u001b[0;34m.\u001b[0m\u001b[0mto_dict\u001b[0m\u001b[0;34m(\u001b[0m\u001b[0;34m)\u001b[0m\u001b[0;34m\u001b[0m\u001b[0;34m\u001b[0m\u001b[0m\n",
      "\u001b[0m\u001b[0;32m    184 \u001b[0;31m        \u001b[0mdict_rep\u001b[0m \u001b[0;34m=\u001b[0m \u001b[0mencode_keys\u001b[0m\u001b[0;34m(\u001b[0m\u001b[0mdict_rep\u001b[0m\u001b[0;34m)\u001b[0m\u001b[0;34m\u001b[0m\u001b[0;34m\u001b[0m\u001b[0m\n",
      "\u001b[0m\u001b[0;32m--> 185 \u001b[0;31m        \u001b[0;32mreturn\u001b[0m \u001b[0mjson\u001b[0m\u001b[0;34m.\u001b[0m\u001b[0mdumps\u001b[0m\u001b[0;34m(\u001b[0m\u001b[0mdict_rep\u001b[0m\u001b[0;34m,\u001b[0m \u001b[0mindent\u001b[0m\u001b[0;34m=\u001b[0m\u001b[0;36m2\u001b[0m\u001b[0;34m,\u001b[0m \u001b[0msort_keys\u001b[0m\u001b[0;34m=\u001b[0m\u001b[0;32mTrue\u001b[0m\u001b[0;34m)\u001b[0m \u001b[0;34m+\u001b[0m \u001b[0;34m\"\\n\"\u001b[0m\u001b[0;34m\u001b[0m\u001b[0;34m\u001b[0m\u001b[0m\n",
      "\u001b[0m\u001b[0;32m    186 \u001b[0;31m\u001b[0;34m\u001b[0m\u001b[0m\n",
      "\u001b[0m\u001b[0;32m    187 \u001b[0;31m    \u001b[0;32mdef\u001b[0m \u001b[0mto_json_file\u001b[0m\u001b[0;34m(\u001b[0m\u001b[0mself\u001b[0m\u001b[0;34m,\u001b[0m \u001b[0mjson_file_path\u001b[0m\u001b[0;34m)\u001b[0m\u001b[0;34m:\u001b[0m\u001b[0;34m\u001b[0m\u001b[0;34m\u001b[0m\u001b[0m\n",
      "\u001b[0m\n"
     ]
    },
    {
     "name": "stdin",
     "output_type": "stream",
     "text": [
      "ipdb>  dict_rep\n"
     ]
    },
    {
     "name": "stdout",
     "output_type": "stream",
     "text": [
      "{'dataset': ('DatasetConfig', {'comment': 'CIFAR10', 'dataset_cls': 'CIFAR10', 'batch_size': 128, 'apply_augmentation': True, 'apply_normalization': False, 'input_size': 32, 'train_data_mean': (0.49139968, 0.48215841, 0.44653091), 'train_data_std': (0.24703223, 0.24348513, 0.26158784), 'data_dir': './data/image_classification/torchvision/', 'valid_size': 0.1, 'shuffle': True, 'show_sample': False, 'num_workers': 1, 'pin_memory': True}), 'model': ('ModelConfig', {'comment': 'CIFAR10', 'cnn_builder': 'resnet', 'type': '50', 'num_classes': 10, 'input_size': 32, 'noise_adv_classification': False, 'noise_adv_regression': False, 'core_stride': 1, 'conv_stem_kernel_size': 3, 'pretrained': False}), 'trainer': ('TrainerConfig', {'comment': 'Noise Augmented + Repr. Matching', 'force_cpu': False, 'use_tensorboard': False, 'optimizer': 'Adam', 'lr': 0.0003, 'lr_decay': 0.8, 'weight_decay': 0.0005, 'momentum': 0.9, 'num_epochs': 200, 'lr_milestones': (60, 120, 160), 'adaptive_lr': False, 'patience': 10, 'threshold': 0.0001, 'verbose': True, 'add_noise': True, 'noise_std': {0.08: 0.1, 0.12: 0.1, 0.18: 0.1, 0.26: 0.1, 0.38: 0.1, -1: 0.5}, 'noise_snr': None, 'noise_test': {'noise_snr': [{5.0: 1.0}, {4.0: 1.0}, {3.0: 1.0}, {2.0: 1.0}, {1.0: 1.0}, {0.5: 1.0}, {0.0: 1.0}], 'noise_std': [{0.0: 1.0}, {0.05: 1.0}, {0.1: 1.0}, {0.2: 1.0}, {0.3: 1.0}, {0.5: 1.0}, {1.0: 1.0}]}, 'noise_adv_classification': False, 'noise_adv_regression': False, 'noise_adv_loss_factor': 1.0, 'noise_adv_gamma': 10.0, 'representation_matching': {'representation': 'conv_rep', 'criterion': 'cosine', 'second_noise_std': {(0, 1.0): 1.0}, 'lambda': 1.0}, 'freeze': None, 'reset_linear': False, 'reset_linear_frequency': None, 'transfer_from_path': None}), 'seed': 42}\n"
     ]
    },
    {
     "name": "stdin",
     "output_type": "stream",
     "text": [
      "ipdb>  dict_rep.keys()\n"
     ]
    },
    {
     "name": "stdout",
     "output_type": "stream",
     "text": [
      "dict_keys(['dataset', 'model', 'trainer', 'seed'])\n"
     ]
    },
    {
     "name": "stdin",
     "output_type": "stream",
     "text": [
      "ipdb>  dict_rep['dataset']\n"
     ]
    },
    {
     "name": "stdout",
     "output_type": "stream",
     "text": [
      "('DatasetConfig', {'comment': 'CIFAR10', 'dataset_cls': 'CIFAR10', 'batch_size': 128, 'apply_augmentation': True, 'apply_normalization': False, 'input_size': 32, 'train_data_mean': (0.49139968, 0.48215841, 0.44653091), 'train_data_std': (0.24703223, 0.24348513, 0.26158784), 'data_dir': './data/image_classification/torchvision/', 'valid_size': 0.1, 'shuffle': True, 'show_sample': False, 'num_workers': 1, 'pin_memory': True})\n"
     ]
    },
    {
     "name": "stdin",
     "output_type": "stream",
     "text": [
      "ipdb>  dict_rep['dataset'].keys()\n"
     ]
    },
    {
     "name": "stdout",
     "output_type": "stream",
     "text": [
      "*** AttributeError: 'tuple' object has no attribute 'keys'\n"
     ]
    },
    {
     "name": "stdin",
     "output_type": "stream",
     "text": [
      "ipdb>  dict_rep['Trainer']\n"
     ]
    },
    {
     "name": "stdout",
     "output_type": "stream",
     "text": [
      "*** KeyError: 'Trainer'\n"
     ]
    },
    {
     "name": "stdin",
     "output_type": "stream",
     "text": [
      "ipdb>  dict_rep['trainer']\n"
     ]
    },
    {
     "name": "stdout",
     "output_type": "stream",
     "text": [
      "('TrainerConfig', {'comment': 'Noise Augmented + Repr. Matching', 'force_cpu': False, 'use_tensorboard': False, 'optimizer': 'Adam', 'lr': 0.0003, 'lr_decay': 0.8, 'weight_decay': 0.0005, 'momentum': 0.9, 'num_epochs': 200, 'lr_milestones': (60, 120, 160), 'adaptive_lr': False, 'patience': 10, 'threshold': 0.0001, 'verbose': True, 'add_noise': True, 'noise_std': {0.08: 0.1, 0.12: 0.1, 0.18: 0.1, 0.26: 0.1, 0.38: 0.1, -1: 0.5}, 'noise_snr': None, 'noise_test': {'noise_snr': [{5.0: 1.0}, {4.0: 1.0}, {3.0: 1.0}, {2.0: 1.0}, {1.0: 1.0}, {0.5: 1.0}, {0.0: 1.0}], 'noise_std': [{0.0: 1.0}, {0.05: 1.0}, {0.1: 1.0}, {0.2: 1.0}, {0.3: 1.0}, {0.5: 1.0}, {1.0: 1.0}]}, 'noise_adv_classification': False, 'noise_adv_regression': False, 'noise_adv_loss_factor': 1.0, 'noise_adv_gamma': 10.0, 'representation_matching': {'representation': 'conv_rep', 'criterion': 'cosine', 'second_noise_std': {(0, 1.0): 1.0}, 'lambda': 1.0}, 'freeze': None, 'reset_linear': False, 'reset_linear_frequency': None, 'transfer_from_path': None})\n"
     ]
    },
    {
     "name": "stdin",
     "output_type": "stream",
     "text": [
      "ipdb>  q\n"
     ]
    }
   ],
   "source": [
    "%debug"
   ]
  },
  {
   "cell_type": "markdown",
   "metadata": {},
   "source": [
    "### Run experiments"
   ]
  },
  {
   "cell_type": "code",
   "execution_count": 6,
   "metadata": {},
   "outputs": [],
   "source": [
    "from recipes.main import fill_tables, run_all_experiments"
   ]
  },
  {
   "cell_type": "code",
   "execution_count": 7,
   "metadata": {},
   "outputs": [],
   "source": [
    "fill_tables(experiment.transfer_experiments)  "
   ]
  },
  {
   "cell_type": "code",
   "execution_count": 12,
   "metadata": {},
   "outputs": [
    {
     "name": "stderr",
     "output_type": "stream",
     "text": [
      "0it [00:00, ?it/s]\n",
      "0it [00:00, ?it/s]\n",
      "0it [00:00, ?it/s]\n"
     ]
    }
   ],
   "source": [
    "run_all_experiments(experiment.transfer_experiments)"
   ]
  },
  {
   "cell_type": "markdown",
   "metadata": {},
   "source": [
    "### In case something goes wrong:"
   ]
  },
  {
   "cell_type": "code",
   "execution_count": 13,
   "metadata": {},
   "outputs": [],
   "source": [
    "# delete all jobs in error state:\n",
    "if schema.database != \"nnfabrik_core\": \n",
    "    (schema.jobs & \"status='error'\").delete()"
   ]
  },
  {
   "cell_type": "code",
   "execution_count": 14,
   "metadata": {},
   "outputs": [
    {
     "name": "stdin",
     "output_type": "stream",
     "text": [
      "Proceed to delete entire schema `anix_nnfabrik_2020_04_06_robustness`? [yes, No]:  no\n"
     ]
    }
   ],
   "source": [
    "# drop the entire schema: THIS IS WILL DELETE EVERYTHING!\n",
    "if schema.database != \"nnfabrik_core\": \n",
    "    schema.drop()"
   ]
  },
  {
   "cell_type": "markdown",
   "metadata": {},
   "source": [
    "### Analyse the results"
   ]
  },
  {
   "cell_type": "code",
   "execution_count": 21,
   "metadata": {},
   "outputs": [],
   "source": [
    "from bias_transfer.analysis.analyzer import Analyzer\n",
    "import seaborn as sns"
   ]
  },
  {
   "cell_type": "code",
   "execution_count": 22,
   "metadata": {},
   "outputs": [],
   "source": [
    "analysis = Analyzer()"
   ]
  },
  {
   "cell_type": "code",
   "execution_count": 23,
   "metadata": {},
   "outputs": [
    {
     "data": {
      "text/html": [
       "<div>\n",
       "<style scoped>\n",
       "    .dataframe tbody tr th:only-of-type {\n",
       "        vertical-align: middle;\n",
       "    }\n",
       "\n",
       "    .dataframe tbody tr th {\n",
       "        vertical-align: top;\n",
       "    }\n",
       "\n",
       "    .dataframe thead th {\n",
       "        text-align: right;\n",
       "    }\n",
       "</style>\n",
       "<table border=\"1\" class=\"dataframe\">\n",
       "  <thead>\n",
       "    <tr style=\"text-align: right;\">\n",
       "      <th></th>\n",
       "      <th>name</th>\n",
       "      <th>comment</th>\n",
       "      <th>training_progress</th>\n",
       "      <th>test_acc</th>\n",
       "      <th>test_loss</th>\n",
       "      <th>dev_acc</th>\n",
       "      <th>epoch</th>\n",
       "      <th>dev_noise_acc</th>\n",
       "      <th>dev_noise_loss</th>\n",
       "    </tr>\n",
       "  </thead>\n",
       "  <tbody>\n",
       "    <tr>\n",
       "      <th>0</th>\n",
       "      <td>CIFAR10: Noise Augmented</td>\n",
       "      <td>Noise Augmented.CIFAR10.CIFAR10</td>\n",
       "      <td>[{'train_acc': 35.617777777777775, 'train_loss...</td>\n",
       "      <td>90.87</td>\n",
       "      <td>0.331231</td>\n",
       "      <td>86.78</td>\n",
       "      <td>195</td>\n",
       "      <td>{'noise_snr': {'5.0_1.0': 89.6, '4.0_1.0': 88....</td>\n",
       "      <td>{'noise_snr': {'5.0_1.0': 0.3797176044434309, ...</td>\n",
       "    </tr>\n",
       "    <tr>\n",
       "      <th>1</th>\n",
       "      <td>CIFAR10: Noise Augmented + Repr. Matching</td>\n",
       "      <td>Noise Augmented + Repr. Matching.CIFAR10.CIFAR10</td>\n",
       "      <td>[{'train_acc': 35.44888888888889, 'train_loss'...</td>\n",
       "      <td>85.24</td>\n",
       "      <td>0.497737</td>\n",
       "      <td>86.34</td>\n",
       "      <td>165</td>\n",
       "      <td>{'noise_snr': {'5.0_1.0': 89.44, '4.0_1.0': 88...</td>\n",
       "      <td>{'noise_snr': {'5.0_1.0': 0.39026166796684264,...</td>\n",
       "    </tr>\n",
       "    <tr>\n",
       "      <th>2</th>\n",
       "      <td>CIFAR10: Noise Augmented + Repr. Matching (Euc...</td>\n",
       "      <td>Noise Augmented + Repr. Matching.CIFAR10.CIFAR10</td>\n",
       "      <td>[{'train_acc': 36.026666666666664, 'train_loss...</td>\n",
       "      <td>85.02</td>\n",
       "      <td>0.515269</td>\n",
       "      <td>86.40</td>\n",
       "      <td>186</td>\n",
       "      <td>{'noise_snr': {'5.0_1.0': 89.32, '4.0_1.0': 88...</td>\n",
       "      <td>{'noise_snr': {'5.0_1.0': 0.3796700358390808, ...</td>\n",
       "    </tr>\n",
       "    <tr>\n",
       "      <th>3</th>\n",
       "      <td>CIFAR10: Noise Augmented + Noise Adv Regession</td>\n",
       "      <td>Noise Augmented + Noise Adv Regression.CIFAR10...</td>\n",
       "      <td>[{'train_acc': 13.437777777777777, 'train_loss...</td>\n",
       "      <td>90.51</td>\n",
       "      <td>0.372991</td>\n",
       "      <td>86.58</td>\n",
       "      <td>175</td>\n",
       "      <td>{'noise_snr': {'5.0_1.0': 89.4, '4.0_1.0': 89....</td>\n",
       "      <td>{'noise_snr': {'5.0_1.0': 0.3584442872554064, ...</td>\n",
       "    </tr>\n",
       "  </tbody>\n",
       "</table>\n",
       "</div>"
      ],
      "text/plain": [
       "                                                name  \\\n",
       "0                           CIFAR10: Noise Augmented   \n",
       "1          CIFAR10: Noise Augmented + Repr. Matching   \n",
       "2  CIFAR10: Noise Augmented + Repr. Matching (Euc...   \n",
       "3     CIFAR10: Noise Augmented + Noise Adv Regession   \n",
       "\n",
       "                                             comment  \\\n",
       "0                    Noise Augmented.CIFAR10.CIFAR10   \n",
       "1   Noise Augmented + Repr. Matching.CIFAR10.CIFAR10   \n",
       "2   Noise Augmented + Repr. Matching.CIFAR10.CIFAR10   \n",
       "3  Noise Augmented + Noise Adv Regression.CIFAR10...   \n",
       "\n",
       "                                   training_progress  test_acc  test_loss  \\\n",
       "0  [{'train_acc': 35.617777777777775, 'train_loss...     90.87   0.331231   \n",
       "1  [{'train_acc': 35.44888888888889, 'train_loss'...     85.24   0.497737   \n",
       "2  [{'train_acc': 36.026666666666664, 'train_loss...     85.02   0.515269   \n",
       "3  [{'train_acc': 13.437777777777777, 'train_loss...     90.51   0.372991   \n",
       "\n",
       "   dev_acc  epoch                                      dev_noise_acc  \\\n",
       "0    86.78    195  {'noise_snr': {'5.0_1.0': 89.6, '4.0_1.0': 88....   \n",
       "1    86.34    165  {'noise_snr': {'5.0_1.0': 89.44, '4.0_1.0': 88...   \n",
       "2    86.40    186  {'noise_snr': {'5.0_1.0': 89.32, '4.0_1.0': 88...   \n",
       "3    86.58    175  {'noise_snr': {'5.0_1.0': 89.4, '4.0_1.0': 89....   \n",
       "\n",
       "                                      dev_noise_loss  \n",
       "0  {'noise_snr': {'5.0_1.0': 0.3797176044434309, ...  \n",
       "1  {'noise_snr': {'5.0_1.0': 0.39026166796684264,...  \n",
       "2  {'noise_snr': {'5.0_1.0': 0.3796700358390808, ...  \n",
       "3  {'noise_snr': {'5.0_1.0': 0.3584442872554064, ...  "
      ]
     },
     "execution_count": 23,
     "metadata": {},
     "output_type": "execute_result"
    }
   ],
   "source": [
    "analysis.add_data(experiment.experiments, TrainedModel(), transfer_level=0)\n",
    "analysis.df"
   ]
  },
  {
   "cell_type": "code",
   "execution_count": 24,
   "metadata": {},
   "outputs": [
    {
     "data": {
      "text/html": [
       "<div>\n",
       "<style scoped>\n",
       "    .dataframe tbody tr th:only-of-type {\n",
       "        vertical-align: middle;\n",
       "    }\n",
       "\n",
       "    .dataframe tbody tr th {\n",
       "        vertical-align: top;\n",
       "    }\n",
       "\n",
       "    .dataframe thead th {\n",
       "        text-align: right;\n",
       "    }\n",
       "</style>\n",
       "<table border=\"1\" class=\"dataframe\">\n",
       "  <thead>\n",
       "    <tr style=\"text-align: right;\">\n",
       "      <th></th>\n",
       "      <th>name</th>\n",
       "      <th>comment</th>\n",
       "      <th>training_progress</th>\n",
       "      <th>test_acc</th>\n",
       "      <th>test_loss</th>\n",
       "      <th>dev_acc</th>\n",
       "      <th>epoch</th>\n",
       "      <th>dev_noise_acc</th>\n",
       "      <th>dev_noise_loss</th>\n",
       "    </tr>\n",
       "  </thead>\n",
       "  <tbody>\n",
       "    <tr>\n",
       "      <th>0</th>\n",
       "      <td>CIFAR10: Noise Augmented</td>\n",
       "      <td>Noise Augmented.CIFAR10.CIFAR10</td>\n",
       "      <td>[{'train_acc': 35.617777777777775, 'train_loss...</td>\n",
       "      <td>90.87</td>\n",
       "      <td>0.331231</td>\n",
       "      <td>86.78</td>\n",
       "      <td>195</td>\n",
       "      <td>{'noise_snr': {'5.0_1.0': 89.6, '4.0_1.0': 88....</td>\n",
       "      <td>{'noise_snr': {'5.0_1.0': 0.3797176044434309, ...</td>\n",
       "    </tr>\n",
       "    <tr>\n",
       "      <th>1</th>\n",
       "      <td>CIFAR10: Noise Augmented + Repr. Matching</td>\n",
       "      <td>Noise Augmented + Repr. Matching.CIFAR10.CIFAR10</td>\n",
       "      <td>[{'train_acc': 35.44888888888889, 'train_loss'...</td>\n",
       "      <td>85.24</td>\n",
       "      <td>0.497737</td>\n",
       "      <td>86.34</td>\n",
       "      <td>165</td>\n",
       "      <td>{'noise_snr': {'5.0_1.0': 89.44, '4.0_1.0': 88...</td>\n",
       "      <td>{'noise_snr': {'5.0_1.0': 0.39026166796684264,...</td>\n",
       "    </tr>\n",
       "    <tr>\n",
       "      <th>2</th>\n",
       "      <td>CIFAR10: Noise Augmented + Repr. Matching (Euc...</td>\n",
       "      <td>Noise Augmented + Repr. Matching.CIFAR10.CIFAR10</td>\n",
       "      <td>[{'train_acc': 36.026666666666664, 'train_loss...</td>\n",
       "      <td>85.02</td>\n",
       "      <td>0.515269</td>\n",
       "      <td>86.40</td>\n",
       "      <td>186</td>\n",
       "      <td>{'noise_snr': {'5.0_1.0': 89.32, '4.0_1.0': 88...</td>\n",
       "      <td>{'noise_snr': {'5.0_1.0': 0.3796700358390808, ...</td>\n",
       "    </tr>\n",
       "    <tr>\n",
       "      <th>3</th>\n",
       "      <td>CIFAR10: Noise Augmented + Noise Adv Regession</td>\n",
       "      <td>Noise Augmented + Noise Adv Regression.CIFAR10...</td>\n",
       "      <td>[{'train_acc': 13.437777777777777, 'train_loss...</td>\n",
       "      <td>90.51</td>\n",
       "      <td>0.372991</td>\n",
       "      <td>86.58</td>\n",
       "      <td>175</td>\n",
       "      <td>{'noise_snr': {'5.0_1.0': 89.4, '4.0_1.0': 89....</td>\n",
       "      <td>{'noise_snr': {'5.0_1.0': 0.3584442872554064, ...</td>\n",
       "    </tr>\n",
       "    <tr>\n",
       "      <th>0</th>\n",
       "      <td>CIFAR10: Noise Augmented -&gt; Transfer (Reset)</td>\n",
       "      <td>Transfer + Reset.CIFAR10.CIFAR10</td>\n",
       "      <td>[{'train_acc': 95.43111111111111, 'train_loss'...</td>\n",
       "      <td>89.76</td>\n",
       "      <td>0.380920</td>\n",
       "      <td>90.94</td>\n",
       "      <td>109</td>\n",
       "      <td>{'noise_snr': {'5.0_1.0': 84.78, '4.0_1.0': 82...</td>\n",
       "      <td>{'noise_snr': {'5.0_1.0': 0.5290716670453548, ...</td>\n",
       "    </tr>\n",
       "    <tr>\n",
       "      <th>1</th>\n",
       "      <td>CIFAR10: Noise Augmented + Noise Adv Regession...</td>\n",
       "      <td>Transfer + Reset.CIFAR10.CIFAR10</td>\n",
       "      <td>[{'train_acc': 94.35111111111111, 'train_loss'...</td>\n",
       "      <td>89.72</td>\n",
       "      <td>0.377579</td>\n",
       "      <td>91.42</td>\n",
       "      <td>102</td>\n",
       "      <td>{'noise_snr': {'5.0_1.0': 85.02, '4.0_1.0': 82...</td>\n",
       "      <td>{'noise_snr': {'5.0_1.0': 0.5247578591108322, ...</td>\n",
       "    </tr>\n",
       "    <tr>\n",
       "      <th>2</th>\n",
       "      <td>CIFAR10: Noise Augmented + Repr. Matching (Euc...</td>\n",
       "      <td>Transfer + Reset.CIFAR10.CIFAR10</td>\n",
       "      <td>[{'train_acc': 94.67555555555556, 'train_loss'...</td>\n",
       "      <td>89.60</td>\n",
       "      <td>0.388927</td>\n",
       "      <td>90.38</td>\n",
       "      <td>129</td>\n",
       "      <td>{'noise_snr': {'5.0_1.0': 88.1, '4.0_1.0': 86....</td>\n",
       "      <td>{'noise_snr': {'5.0_1.0': 0.4289606135338545, ...</td>\n",
       "    </tr>\n",
       "    <tr>\n",
       "      <th>3</th>\n",
       "      <td>CIFAR10: Noise Augmented + Repr. Matching -&gt; T...</td>\n",
       "      <td>Transfer + Reset.CIFAR10.CIFAR10</td>\n",
       "      <td>[{'train_acc': 92.13777777777777, 'train_loss'...</td>\n",
       "      <td>89.42</td>\n",
       "      <td>0.374862</td>\n",
       "      <td>90.14</td>\n",
       "      <td>118</td>\n",
       "      <td>{'noise_snr': {'5.0_1.0': 87.48, '4.0_1.0': 86...</td>\n",
       "      <td>{'noise_snr': {'5.0_1.0': 0.42538107074797155,...</td>\n",
       "    </tr>\n",
       "  </tbody>\n",
       "</table>\n",
       "</div>"
      ],
      "text/plain": [
       "                                                name  \\\n",
       "0                           CIFAR10: Noise Augmented   \n",
       "1          CIFAR10: Noise Augmented + Repr. Matching   \n",
       "2  CIFAR10: Noise Augmented + Repr. Matching (Euc...   \n",
       "3     CIFAR10: Noise Augmented + Noise Adv Regession   \n",
       "0       CIFAR10: Noise Augmented -> Transfer (Reset)   \n",
       "1  CIFAR10: Noise Augmented + Noise Adv Regession...   \n",
       "2  CIFAR10: Noise Augmented + Repr. Matching (Euc...   \n",
       "3  CIFAR10: Noise Augmented + Repr. Matching -> T...   \n",
       "\n",
       "                                             comment  \\\n",
       "0                    Noise Augmented.CIFAR10.CIFAR10   \n",
       "1   Noise Augmented + Repr. Matching.CIFAR10.CIFAR10   \n",
       "2   Noise Augmented + Repr. Matching.CIFAR10.CIFAR10   \n",
       "3  Noise Augmented + Noise Adv Regression.CIFAR10...   \n",
       "0                   Transfer + Reset.CIFAR10.CIFAR10   \n",
       "1                   Transfer + Reset.CIFAR10.CIFAR10   \n",
       "2                   Transfer + Reset.CIFAR10.CIFAR10   \n",
       "3                   Transfer + Reset.CIFAR10.CIFAR10   \n",
       "\n",
       "                                   training_progress  test_acc  test_loss  \\\n",
       "0  [{'train_acc': 35.617777777777775, 'train_loss...     90.87   0.331231   \n",
       "1  [{'train_acc': 35.44888888888889, 'train_loss'...     85.24   0.497737   \n",
       "2  [{'train_acc': 36.026666666666664, 'train_loss...     85.02   0.515269   \n",
       "3  [{'train_acc': 13.437777777777777, 'train_loss...     90.51   0.372991   \n",
       "0  [{'train_acc': 95.43111111111111, 'train_loss'...     89.76   0.380920   \n",
       "1  [{'train_acc': 94.35111111111111, 'train_loss'...     89.72   0.377579   \n",
       "2  [{'train_acc': 94.67555555555556, 'train_loss'...     89.60   0.388927   \n",
       "3  [{'train_acc': 92.13777777777777, 'train_loss'...     89.42   0.374862   \n",
       "\n",
       "   dev_acc  epoch                                      dev_noise_acc  \\\n",
       "0    86.78    195  {'noise_snr': {'5.0_1.0': 89.6, '4.0_1.0': 88....   \n",
       "1    86.34    165  {'noise_snr': {'5.0_1.0': 89.44, '4.0_1.0': 88...   \n",
       "2    86.40    186  {'noise_snr': {'5.0_1.0': 89.32, '4.0_1.0': 88...   \n",
       "3    86.58    175  {'noise_snr': {'5.0_1.0': 89.4, '4.0_1.0': 89....   \n",
       "0    90.94    109  {'noise_snr': {'5.0_1.0': 84.78, '4.0_1.0': 82...   \n",
       "1    91.42    102  {'noise_snr': {'5.0_1.0': 85.02, '4.0_1.0': 82...   \n",
       "2    90.38    129  {'noise_snr': {'5.0_1.0': 88.1, '4.0_1.0': 86....   \n",
       "3    90.14    118  {'noise_snr': {'5.0_1.0': 87.48, '4.0_1.0': 86...   \n",
       "\n",
       "                                      dev_noise_loss  \n",
       "0  {'noise_snr': {'5.0_1.0': 0.3797176044434309, ...  \n",
       "1  {'noise_snr': {'5.0_1.0': 0.39026166796684264,...  \n",
       "2  {'noise_snr': {'5.0_1.0': 0.3796700358390808, ...  \n",
       "3  {'noise_snr': {'5.0_1.0': 0.3584442872554064, ...  \n",
       "0  {'noise_snr': {'5.0_1.0': 0.5290716670453548, ...  \n",
       "1  {'noise_snr': {'5.0_1.0': 0.5247578591108322, ...  \n",
       "2  {'noise_snr': {'5.0_1.0': 0.4289606135338545, ...  \n",
       "3  {'noise_snr': {'5.0_1.0': 0.42538107074797155,...  "
      ]
     },
     "execution_count": 24,
     "metadata": {},
     "output_type": "execute_result"
    }
   ],
   "source": [
    "analysis.add_data(experiment.transfer_experiments, TrainedTransferModel(), transfer_level=1)\n",
    "analysis.df"
   ]
  },
  {
   "cell_type": "code",
   "execution_count": 25,
   "metadata": {},
   "outputs": [
    {
     "data": {
      "image/png": "[encoded data removed]",
      "text/plain": [
       "<Figure size 2400x1500 with 1 Axes>"
      ]
     },
     "metadata": {},
     "output_type": "display_data"
    }
   ],
   "source": [
    "x = analysis.plot(to_plot=\"dev_noise_acc\", \n",
    "       noise_measure=\"std\",\n",
    "       kind=None, \n",
    "       plot_method=sns.barplot,\n",
    "#         save=\"/work/tin\",\n",
    "        style=\"lightpaper\"\n",
    "       )"
   ]
  },
  {
   "cell_type": "code",
   "execution_count": null,
   "metadata": {},
   "outputs": [],
   "source": []
  }
 ],
 "metadata": {
  "kernelspec": {
   "display_name": "Python 3",
   "language": "python",
   "name": "python3"
  },
  "language_info": {
   "codemirror_mode": {
    "name": "ipython",
    "version": 3
   },
   "file_extension": ".py",
   "mimetype": "text/x-python",
   "name": "python",
   "nbconvert_exporter": "python",
   "pygments_lexer": "ipython3",
   "version": "3.7.6"
  }
 },
 "nbformat": 4,
 "nbformat_minor": 4
}
