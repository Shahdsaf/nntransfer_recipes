{
 "cells": [
  {
   "cell_type": "code",
   "execution_count": 1,
   "metadata": {},
   "outputs": [],
   "source": [
    "%matplotlib inline\n",
    "import sys\n",
    "import matplotlib.pyplot as plt\n",
    "import numpy as np"
   ]
  },
  {
   "cell_type": "code",
   "execution_count": 2,
   "metadata": {},
   "outputs": [],
   "source": [
    "sys.path.append(\"/\")"
   ]
  },
  {
   "cell_type": "code",
   "execution_count": 9,
   "metadata": {},
   "outputs": [],
   "source": [
    "from recipes.main import load_experiment\n",
    "experiment = load_experiment(recipe=\"_2020_04_01_rep_matching\", \n",
    "                experiment=\"baseline\", \n",
    "                schema=\"anix_nnfabrik_bias_transfer1\", \n",
    "                base_dir=\"../\", \n",
    "                import_prefix=\"recipes.\", \n",
    "                dev_mode=True)"
   ]
  },
  {
   "cell_type": "code",
   "execution_count": 7,
   "metadata": {},
   "outputs": [
    {
     "data": {
      "text/plain": [
       "Schema `anix_nnfabrik_2020_04_01_rep_matching`"
      ]
     },
     "execution_count": 7,
     "metadata": {},
     "output_type": "execute_result"
    }
   ],
   "source": [
    "schema"
   ]
  },
  {
   "cell_type": "code",
   "execution_count": 2,
   "metadata": {},
   "outputs": [],
   "source": [
    "import imageio"
   ]
  },
  {
   "cell_type": "code",
   "execution_count": 55,
   "metadata": {},
   "outputs": [],
   "source": [
    "from bias_transfer.experiments.representation_analysis import experiments\n",
    "experiment_key = \"clean\"\n",
    "dataset_cls = \"CIFAR10\"\n",
    "idx = True\n",
    "if experiment_key == \"clean\":\n",
    "    exp = experiments[Description(name=dataset_cls + \": Clean\", seed=42)]\n",
    "if experiment_key == \"noisy\":\n",
    "    exp = experiments[Description(name=dataset_cls + \": Noise Augmented\", seed=42)]\n",
    "if experiment_key == \"rep_matching\":\n",
    "    exp = experiments[Description(name=dataset_cls + \": Noise Augmented + Repr. Matching\", seed=42)]\n",
    "if experiment_key == \"adv_regression\":\n",
    "    exp = experiments[Description(name=dataset_cls + \": Noise Augmented + Noise Adv Regession\", seed=42)]"
   ]
  },
  {
   "cell_type": "code",
   "execution_count": 56,
   "metadata": {},
   "outputs": [
    {
     "name": "stdout",
     "output_type": "stream",
     "text": [
      "Files already downloaded and verified\n",
      "Files already downloaded and verified\n",
      "Files already downloaded and verified\n",
      "Model with 23520842 parameters.\n"
     ]
    }
   ],
   "source": [
    "val_analyser = RepresentationAnalyser(experiment=exp, table=TrainedModel(), dataset=\"val\",\n",
    "                                      plot_style=\"lightpaper\")"
   ]
  },
  {
   "cell_type": "code",
   "execution_count": 57,
   "metadata": {},
   "outputs": [],
   "source": [
    "path = \"./bias_transfer/bias_transfer/analysis/\""
   ]
  },
  {
   "cell_type": "code",
   "execution_count": 58,
   "metadata": {},
   "outputs": [],
   "source": [
    "filenames = []\n",
    "filenames.append(os.path.join(path,val_analyser._get_name(method=\"corr\", mode=\"clean\", noise_level=0.0)+\"_plot.png\"))\n",
    "for i in range(1, 21):\n",
    "    noise_level = 0.05 * i\n",
    "    if not idx:\n",
    "        filenames.append(os.path.join(path,val_analyser._get_name(method=\"corr\", mode=\"noisy\", noise_level=noise_level)+\"_plot.png\"))\n",
    "    else:\n",
    "        filenames.append(os.path.join(path,val_analyser._get_name(method=\"corr_given_idx\", mode=\"noisy\", noise_level=noise_level)+\"_plot.png\"))"
   ]
  },
  {
   "cell_type": "code",
   "execution_count": 59,
   "metadata": {},
   "outputs": [],
   "source": [
    "images = []\n",
    "for filename in filenames:\n",
    "    images.append(imageio.imread(filename))\n",
    "imageio.mimsave('./{}_{}.gif'.format(experiment_key, \"given_idx\" if idx else \"\"), images, format='GIF', duration=2)"
   ]
  },
  {
   "cell_type": "code",
   "execution_count": null,
   "metadata": {},
   "outputs": [],
   "source": []
  }
 ],
 "metadata": {
  "kernelspec": {
   "display_name": "Python 3",
   "language": "python",
   "name": "python3"
  },
  "language_info": {
   "codemirror_mode": {
    "name": "ipython",
    "version": 3
   },
   "file_extension": ".py",
   "mimetype": "text/x-python",
   "name": "python",
   "nbconvert_exporter": "python",
   "pygments_lexer": "ipython3",
   "version": "3.7.6"
  }
 },
 "nbformat": 4,
 "nbformat_minor": 4
}
