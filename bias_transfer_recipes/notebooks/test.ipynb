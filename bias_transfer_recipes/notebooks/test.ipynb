{
 "cells": [
  {
   "cell_type": "code",
   "execution_count": 4,
   "metadata": {},
   "outputs": [
    {
     "name": "stdout",
     "output_type": "stream",
     "text": [
      "The autoreload extension is already loaded. To reload it, use:\n",
      "  %reload_ext autoreload\n"
     ]
    }
   ],
   "source": [
    "%matplotlib inline\n",
    "%load_ext autoreload\n",
    "%autoreload 2\n",
    "import sys\n",
    "import matplotlib.pyplot as plt\n",
    "import numpy as np\n",
    "import os\n",
    "from pathlib import Path"
   ]
  },
  {
   "cell_type": "markdown",
   "metadata": {},
   "source": [
    "### Load the experiment and corresponding libraries"
   ]
  },
  {
   "cell_type": "code",
   "execution_count": 7,
   "metadata": {},
   "outputs": [],
   "source": [
    "project_path = os.path.join(Path.home(), \"projects\")\n",
    "sys.path.append(project_path)  # enable import of \"bias_transfer_recipes\"\n",
    "os.chdir(os.path.join(project_path,\"bias_transfer_recipes/work/\"))"
   ]
  },
  {
   "cell_type": "code",
   "execution_count": 13,
   "metadata": {},
   "outputs": [],
   "source": [
    "from bias_transfer_recipes.bias_transfer_recipes.main import load_experiment\n",
    "experiment = load_experiment(recipe=\"_2020_09_10_benchmark\", \n",
    "                             experiment=\"test\", \n",
    "                             schema=\"bias_transfer_test\",  # schema name will automatically be generated from recipe and experiment names \n",
    "                             base_dir=os.path.join(project_path,\"bias_transfer_recipes/bias_transfer_recipes/\"),\n",
    "                             import_prefix=\"bias_transfer_recipes.bias_transfer_recipes.\", \n",
    "                             dev_mode=True  \n",
    "                            )"
   ]
  },
  {
   "cell_type": "code",
   "execution_count": 14,
   "metadata": {},
   "outputs": [
    {
     "name": "stdout",
     "output_type": "stream",
     "text": [
      "Connecting anix@datajoint-db.mlcloud.uni-tuebingen.de:3306\n"
     ]
    },
    {
     "data": {
      "text/plain": [
       "Schema `bias_transfer_test`"
      ]
     },
     "execution_count": 14,
     "metadata": {},
     "output_type": "execute_result"
    }
   ],
   "source": [
    "from bias_transfer.tables.transfer import *\n",
    "from bias_transfer.tables.nnfabrik import *\n",
    "schema"
   ]
  },
  {
   "cell_type": "markdown",
   "metadata": {},
   "source": [
    "### Run experiments"
   ]
  },
  {
   "cell_type": "code",
   "execution_count": 15,
   "metadata": {},
   "outputs": [],
   "source": [
    "from bias_transfer_recipes.bias_transfer_recipes.main import fill_tables, run_all_experiments"
   ]
  },
  {
   "cell_type": "code",
   "execution_count": 17,
   "metadata": {},
   "outputs": [],
   "source": [
    "fill_tables(experiment.transfer_experiments)  "
   ]
  },
  {
   "cell_type": "code",
   "execution_count": 18,
   "metadata": {},
   "outputs": [
    {
     "name": "stderr",
     "output_type": "stream",
     "text": [
      "  0%|          | 0/2 [00:00<?, ?it/s]"
     ]
    },
    {
     "name": "stdout",
     "output_type": "stream",
     "text": [
      "Loading dataset: MNIST-IB\n",
      "Model with 134954 parameters.\n",
      "==> Starting model \n",
      "Validation Epoch 0: 100%|██████████| 47/47 [00:01<00:00, 26.85it/s, img_classification accuracy =9.8850, img_classification loss =2.3049, patience =0.0000] \n",
      "Training Epoch 1: 100%|██████████| 422/422 [00:12<00:00, 33.54it/s, img_classification accuracy =62.0259, img_classification loss =1.0680]\n",
      "Validation Epoch 0: 100%|██████████| 47/47 [00:01<00:00, 26.51it/s, img_classification accuracy =74.8958, img_classification loss =0.6735, patience =0.0000]\n",
      "Nothing to delete\n",
      "Restoring best model from epoch! 1\n",
      "Test Epoch 1: 100%|██████████| 79/79 [00:02<00:00, 28.01it/s, img_classification accuracy =74.3574, img_classification loss =0.6888]\n"
     ]
    },
    {
     "name": "stderr",
     "output_type": "stream",
     "text": [
      " 50%|█████     | 1/2 [00:47<00:47, 47.30s/it]"
     ]
    },
    {
     "name": "stdout",
     "output_type": "stream",
     "text": [
      "Deleting intermediate checkpoints...\n",
      "Loading dataset: MNIST-IB\n",
      "Model with 511410 parameters.\n",
      "==> Starting model \n",
      "Validation Epoch 0: 100%|██████████| 47/47 [00:01<00:00, 26.42it/s, img_classification accuracy =11.6853, img_classification loss =2.3042, patience =0.0000]\n",
      "Training Epoch 1: 100%|██████████| 422/422 [00:12<00:00, 34.14it/s, img_classification accuracy =56.6611, img_classification loss =1.1683]\n",
      "Validation Epoch 0: 100%|██████████| 47/47 [00:01<00:00, 26.68it/s, img_classification accuracy =64.4941, img_classification loss =0.8863, patience =0.0000]\n",
      "Nothing to delete\n",
      "Restoring best model from epoch! 1\n",
      "Test Epoch 1: 100%|██████████| 79/79 [00:02<00:00, 32.26it/s, img_classification accuracy =63.5864, img_classification loss =0.9027]\n"
     ]
    },
    {
     "name": "stderr",
     "output_type": "stream",
     "text": [
      "100%|██████████| 2/2 [01:24<00:00, 42.31s/it]"
     ]
    },
    {
     "name": "stdout",
     "output_type": "stream",
     "text": [
      "Deleting intermediate checkpoints...\n"
     ]
    },
    {
     "name": "stderr",
     "output_type": "stream",
     "text": [
      "\n",
      "  0%|          | 0/4 [00:00<?, ?it/s]"
     ]
    },
    {
     "name": "stdout",
     "output_type": "stream",
     "text": [
      "Loading dataset: MNIST-IB\n",
      "Model with 511410 parameters.\n",
      "==> Starting model \n",
      "Validation Epoch 0: 100%|██████████| 47/47 [00:01<00:00, 29.95it/s, img_classification accuracy =66.8945, img_classification loss =0.8005, patience =0.0000]\n",
      "Training Epoch 1: 100%|██████████| 422/422 [00:14<00:00, 29.33it/s, img_classification accuracy =72.7000, img_classification loss =0.7420]\n",
      "Validation Epoch 0: 100%|██████████| 47/47 [00:01<00:00, 29.04it/s, img_classification accuracy =71.9953, img_classification loss =0.7277, patience =0.0000]\n",
      "Nothing to delete\n",
      "Restoring best model from epoch! 1\n",
      "Test Epoch 1: 100%|██████████| 79/79 [00:02<00:00, 29.90it/s, img_classification accuracy =71.6072, img_classification loss =0.7434]\n"
     ]
    },
    {
     "name": "stderr",
     "output_type": "stream",
     "text": [
      " 25%|██▌       | 1/4 [00:26<01:18, 26.11s/it]"
     ]
    },
    {
     "name": "stdout",
     "output_type": "stream",
     "text": [
      "Deleting intermediate checkpoints...\n",
      "Loading dataset: MNIST-IB\n",
      "Model with 134954 parameters.\n",
      "==> Starting model \n",
      "Validation Epoch 0: 100%|██████████| 47/47 [00:01<00:00, 23.88it/s, img_classification accuracy =75.8960, img_classification loss =0.6439, patience =0.0000]\n",
      "Training Epoch 1: 100%|██████████| 422/422 [00:14<00:00, 29.80it/s, img_classification accuracy =79.1185, img_classification loss =0.5659]\n",
      "Validation Epoch 0: 100%|██████████| 47/47 [00:01<00:00, 25.94it/s, img_classification accuracy =79.4299, img_classification loss =0.5330, patience =0.0000]\n",
      "Nothing to delete\n",
      "Restoring best model from epoch! 1\n",
      "Test Epoch 1: 100%|██████████| 79/79 [00:02<00:00, 30.76it/s, img_classification accuracy =79.4279, img_classification loss =0.5390]\n"
     ]
    },
    {
     "name": "stderr",
     "output_type": "stream",
     "text": [
      " 50%|█████     | 2/4 [00:51<00:51, 25.93s/it]"
     ]
    },
    {
     "name": "stdout",
     "output_type": "stream",
     "text": [
      "Deleting intermediate checkpoints...\n",
      "Loading dataset: MNIST-IB\n",
      "Model with 134954 parameters.\n",
      "==> Starting model \n",
      "Validation Epoch 0: 100%|██████████| 47/47 [00:01<00:00, 27.46it/s, img_classification accuracy =75.8960, img_classification loss =0.6439, patience =0.0000]\n",
      "Training Epoch 1: 100%|██████████| 422/422 [00:12<00:00, 34.00it/s, img_classification accuracy =77.0111, img_classification loss =0.6239]\n",
      "Validation Epoch 0: 100%|██████████| 47/47 [00:01<00:00, 26.14it/s, img_classification accuracy =76.6461, img_classification loss =0.6200, patience =0.0000]\n",
      "Nothing to delete\n",
      "Restoring best model from epoch! 1\n",
      "Test Epoch 1: 100%|██████████| 79/79 [00:02<00:00, 31.04it/s, img_classification accuracy =75.8976, img_classification loss =0.6353]\n"
     ]
    },
    {
     "name": "stderr",
     "output_type": "stream",
     "text": [
      " 75%|███████▌  | 3/4 [01:14<00:25, 25.01s/it]"
     ]
    },
    {
     "name": "stdout",
     "output_type": "stream",
     "text": [
      "Deleting intermediate checkpoints...\n",
      "Loading dataset: MNIST-IB\n",
      "Model with 511410 parameters.\n",
      "==> Starting model \n",
      "Validation Epoch 0: 100%|██████████| 47/47 [00:01<00:00, 27.56it/s, img_classification accuracy =66.8945, img_classification loss =0.8005, patience =0.0000]\n",
      "Training Epoch 1: 100%|██████████| 422/422 [00:13<00:00, 32.41it/s, img_classification accuracy =80.0556, img_classification loss =0.5604]\n",
      "Validation Epoch 0: 100%|██████████| 47/47 [00:01<00:00, 27.77it/s, img_classification accuracy =83.8306, img_classification loss =0.4636, patience =0.0000]\n",
      "Nothing to delete\n",
      "Restoring best model from epoch! 1\n",
      "Test Epoch 1: 100%|██████████| 79/79 [00:02<00:00, 27.18it/s, img_classification accuracy =82.7183, img_classification loss =0.4876]\n"
     ]
    },
    {
     "name": "stderr",
     "output_type": "stream",
     "text": [
      "100%|██████████| 4/4 [01:38<00:00, 24.68s/it]"
     ]
    },
    {
     "name": "stdout",
     "output_type": "stream",
     "text": [
      "Deleting intermediate checkpoints...\n"
     ]
    },
    {
     "name": "stderr",
     "output_type": "stream",
     "text": [
      "\n",
      "  0%|          | 0/4 [00:00<?, ?it/s]"
     ]
    },
    {
     "name": "stdout",
     "output_type": "stream",
     "text": [
      "Loading dataset: MNIST-IB\n",
      "Model with 511410 parameters.\n",
      "==> Starting model \n",
      "Validation Epoch 0: 100%|██████████| 47/47 [00:01<00:00, 29.19it/s, img_classification accuracy =66.9445, img_classification loss =0.8573, patience =0.0000]\n",
      "Restoring best model from epoch! 0\n",
      "Test Epoch 0: 100%|██████████| 79/79 [00:02<00:00, 29.91it/s, img_classification accuracy =67.0067, img_classification loss =0.8726]\n"
     ]
    },
    {
     "name": "stderr",
     "output_type": "stream",
     "text": [
      " 25%|██▌       | 1/4 [00:06<00:20,  6.91s/it]"
     ]
    },
    {
     "name": "stdout",
     "output_type": "stream",
     "text": [
      "Nothing to delete\n",
      "Deleting intermediate checkpoints...\n",
      "Loading dataset: MNIST-IB\n",
      "Model with 134954 parameters.\n",
      "==> Starting model \n",
      "Validation Epoch 0: 100%|██████████| 47/47 [00:01<00:00, 25.98it/s, img_classification accuracy =74.4457, img_classification loss =0.6566, patience =0.0000]\n",
      "Restoring best model from epoch! 0\n",
      "Test Epoch 0: 100%|██████████| 79/79 [00:02<00:00, 29.64it/s, img_classification accuracy =74.8675, img_classification loss =0.6653]\n"
     ]
    },
    {
     "name": "stderr",
     "output_type": "stream",
     "text": [
      " 50%|█████     | 2/4 [00:13<00:13,  6.89s/it]"
     ]
    },
    {
     "name": "stdout",
     "output_type": "stream",
     "text": [
      "Nothing to delete\n",
      "Deleting intermediate checkpoints...\n",
      "Loading dataset: MNIST-IB\n",
      "Model with 134954 parameters.\n",
      "==> Starting model \n",
      "Validation Epoch 0: 100%|██████████| 47/47 [00:01<00:00, 28.74it/s, img_classification accuracy =74.3291, img_classification loss =0.6748, patience =0.0000]\n",
      "Restoring best model from epoch! 0\n",
      "Test Epoch 0: 100%|██████████| 79/79 [00:02<00:00, 26.87it/s, img_classification accuracy =74.1074, img_classification loss =0.6861]\n"
     ]
    },
    {
     "name": "stderr",
     "output_type": "stream",
     "text": [
      " 75%|███████▌  | 3/4 [00:20<00:06,  6.93s/it]"
     ]
    },
    {
     "name": "stdout",
     "output_type": "stream",
     "text": [
      "Nothing to delete\n",
      "Deleting intermediate checkpoints...\n",
      "Loading dataset: MNIST-IB\n",
      "Model with 511410 parameters.\n",
      "==> Starting model \n",
      "Validation Epoch 0: 100%|██████████| 47/47 [00:01<00:00, 28.13it/s, img_classification accuracy =52.3921, img_classification loss =1.3833, patience =0.0000]\n",
      "Restoring best model from epoch! 0\n",
      "Test Epoch 0: 100%|██████████| 79/79 [00:02<00:00, 27.44it/s, img_classification accuracy =52.0152, img_classification loss =1.4017]\n"
     ]
    },
    {
     "name": "stderr",
     "output_type": "stream",
     "text": [
      "100%|██████████| 4/4 [00:28<00:00,  7.02s/it]"
     ]
    },
    {
     "name": "stdout",
     "output_type": "stream",
     "text": [
      "Nothing to delete\n",
      "Deleting intermediate checkpoints...\n"
     ]
    },
    {
     "name": "stderr",
     "output_type": "stream",
     "text": [
      "\n"
     ]
    }
   ],
   "source": [
    "run_all_experiments(experiment.transfer_experiments)"
   ]
  },
  {
   "cell_type": "code",
   "execution_count": null,
   "metadata": {},
   "outputs": [],
   "source": [
    "%debug"
   ]
  },
  {
   "cell_type": "code",
   "execution_count": 10,
   "metadata": {},
   "outputs": [],
   "source": [
    "from nnfabrik.templates.trained_model_chkpts import Checkpoint"
   ]
  },
  {
   "cell_type": "code",
   "execution_count": 11,
   "metadata": {},
   "outputs": [
    {
     "data": {
      "text/html": [
       "\n",
       "        \n",
       "        <style type=\"text/css\">\n",
       "            .Relation{\n",
       "                border-collapse:collapse;\n",
       "            }\n",
       "            .Relation th{\n",
       "                background: #A0A0A0; color: #ffffff; padding:4px; border:#f0e0e0 1px solid;\n",
       "                font-weight: normal; font-family: monospace; font-size: 100%;\n",
       "            }\n",
       "            .Relation td{\n",
       "                padding:4px; border:#f0e0e0 1px solid; font-size:100%;\n",
       "            }\n",
       "            .Relation tr:nth-child(odd){\n",
       "                background: #ffffff;\n",
       "            }\n",
       "            .Relation tr:nth-child(even){\n",
       "                background: #f3f1ff;\n",
       "            }\n",
       "            /* Tooltip container */\n",
       "            .djtooltip {\n",
       "            }\n",
       "            /* Tooltip text */\n",
       "            .djtooltip .djtooltiptext {\n",
       "                visibility: hidden;\n",
       "                width: 120px;\n",
       "                background-color: black;\n",
       "                color: #fff;\n",
       "                text-align: center;\n",
       "                padding: 5px 0;\n",
       "                border-radius: 6px;\n",
       "                /* Position the tooltip text - see examples below! */\n",
       "                position: absolute;\n",
       "                z-index: 1;\n",
       "            }\n",
       "            #primary {\n",
       "                font-weight: bold;\n",
       "                color: black;\n",
       "            }\n",
       "\n",
       "            #nonprimary {\n",
       "                font-weight: normal;\n",
       "                color: white;\n",
       "            }\n",
       "\n",
       "            /* Show the tooltip text when you mouse over the tooltip container */\n",
       "            .djtooltip:hover .djtooltiptext {\n",
       "                visibility: visible;\n",
       "            }\n",
       "        </style>\n",
       "        \n",
       "        <b>Checkpoint table</b>\n",
       "            <div style=\"max-height:1000px;max-width:1500px;overflow:auto;\">\n",
       "            <table border=\"1\" class=\"Relation\">\n",
       "                <thead> <tr style=\"text-align: right;\"> <th> <div class=\"djtooltip\">\n",
       "                                <p id=\"primary\">collapsed_key</p>\n",
       "                                <span class=\"djtooltiptext\">transfer</span>\n",
       "                            </div></th><th><div class=\"djtooltip\">\n",
       "                                <p id=\"primary\">model_fn</p>\n",
       "                                <span class=\"djtooltiptext\">name of the model function</span>\n",
       "                            </div></th><th><div class=\"djtooltip\">\n",
       "                                <p id=\"primary\">model_hash</p>\n",
       "                                <span class=\"djtooltiptext\">hash of the model configuration</span>\n",
       "                            </div></th><th><div class=\"djtooltip\">\n",
       "                                <p id=\"primary\">dataset_fn</p>\n",
       "                                <span class=\"djtooltiptext\">name of the dataset loader function</span>\n",
       "                            </div></th><th><div class=\"djtooltip\">\n",
       "                                <p id=\"primary\">dataset_hash</p>\n",
       "                                <span class=\"djtooltiptext\">hash of the configuration object</span>\n",
       "                            </div></th><th><div class=\"djtooltip\">\n",
       "                                <p id=\"primary\">trainer_fn</p>\n",
       "                                <span class=\"djtooltiptext\">name of the Trainer loader function</span>\n",
       "                            </div></th><th><div class=\"djtooltip\">\n",
       "                                <p id=\"primary\">trainer_hash</p>\n",
       "                                <span class=\"djtooltiptext\">hash of the configuration object</span>\n",
       "                            </div></th><th><div class=\"djtooltip\">\n",
       "                                <p id=\"primary\">seed</p>\n",
       "                                <span class=\"djtooltiptext\">Random seed that is passed to the model- and dataset-builder</span>\n",
       "                            </div></th><th><div class=\"djtooltip\">\n",
       "                                <p id=\"primary\">epoch</p>\n",
       "                                <span class=\"djtooltiptext\">epoch of creation</span>\n",
       "                            </div></th><th><div class=\"djtooltip\">\n",
       "                                <p id=\"nonprimary\">score</p>\n",
       "                                <span class=\"djtooltiptext\">current score at epoch</span>\n",
       "                            </div></th><th><div class=\"djtooltip\">\n",
       "                                <p id=\"nonprimary\">state</p>\n",
       "                                <span class=\"djtooltiptext\">current state</span>\n",
       "                            </div></th><th><div class=\"djtooltip\">\n",
       "                                <p id=\"nonprimary\">fabrikant_name</p>\n",
       "                                <span class=\"djtooltiptext\">Name of the contributor that added this entry</span>\n",
       "                            </div></th><th><div class=\"djtooltip\">\n",
       "                                <p id=\"nonprimary\">trainedmodel_ts</p>\n",
       "                                <span class=\"djtooltiptext\">UTZ timestamp at time of insertion</span>\n",
       "                            </div> </th> </tr> </thead>\n",
       "                <tbody> <tr>  </tr> </tbody>\n",
       "            </table>\n",
       "            \n",
       "            <p>Total: 0</p></div>\n",
       "            "
      ],
      "text/plain": [
       "*collapsed_key *model_fn    *model_hash    *dataset_fn    *dataset_hash  *trainer_fn    *trainer_hash  *seed    *epoch    score     state      fabrikant_name trainedmodel_t\n",
       "+------------+ +----------+ +------------+ +------------+ +------------+ +------------+ +------------+ +------+ +-------+ +-------+ +--------+ +------------+ +------------+\n",
       "\n",
       " (Total: 0)"
      ]
     },
     "execution_count": 11,
     "metadata": {},
     "output_type": "execute_result"
    }
   ],
   "source": [
    "Checkpoint()"
   ]
  },
  {
   "cell_type": "code",
   "execution_count": 10,
   "metadata": {},
   "outputs": [],
   "source": [
    "# dElete all jobs in error state:\n",
    "if schema.database != \"nnfabrik_core\": \n",
    "    (schema.jobs & \"status='error'\").delete()"
   ]
  },
  {
   "cell_type": "code",
   "execution_count": 48,
   "metadata": {},
   "outputs": [
    {
     "name": "stdin",
     "output_type": "stream",
     "text": [
      "Proceed to delete entire schema `anix_nnfabrik_test`? [yes, No]:  yes\n"
     ]
    }
   ],
   "source": [
    "# drop the entire schema: THIS IS WILL DELETE EVERYTHING!\n",
    "if schema.database != \"nnfabrik_core\": \n",
    "    schema.drop()"
   ]
  },
  {
   "cell_type": "code",
   "execution_count": 46,
   "metadata": {},
   "outputs": [],
   "source": [
    "from torch.utils.tensorboard import SummaryWriter\n",
    "import numpy as np\n",
    "import torch\n",
    "\n",
    "experiment = \"noisy_test\"\n",
    "run = \"next run\"\n",
    "state = torch.load(Checkpoint().fetch(\"state\",as_dict=True)[0][\"state\"])\n",
    "tracker = state[\"tracker\"]\n"
   ]
  },
  {
   "cell_type": "code",
   "execution_count": 47,
   "metadata": {},
   "outputs": [
    {
     "name": "stderr",
     "output_type": "stream",
     "text": [
      "/src/ml-utils/mlutils/tracking.py:144: RuntimeWarning: invalid value encountered in true_divide\n",
      "  n_log[key] = l / norm\n"
     ]
    }
   ],
   "source": [
    "def write_to_tensor_board(experiment, run, tracker):\n",
    "    writer = SummaryWriter()\n",
    "    def write_objective(obj_names, obj):\n",
    "        if isinstance(obj,dict):\n",
    "            for obj_name, sub_obj in obj.items():\n",
    "                if obj_name == \"normalization\":\n",
    "                    continue\n",
    "                write_objective(obj_names+[obj_name],sub_obj)\n",
    "        else:\n",
    "            obj_val = tracker.get_objective(*obj_names)\n",
    "            for i, val in enumerate(obj_val):\n",
    "                writer.add_scalar('/'.join([run]+obj_names), val, i)\n",
    "            \n",
    "    write_objective([],tracker.objectives)\n",
    "write_to_tensor_board(experiment, run, tracker)"
   ]
  },
  {
   "cell_type": "code",
   "execution_count": 33,
   "metadata": {},
   "outputs": [
    {
     "data": {
      "text/plain": [
       "{'LR': 0,\n",
       " 'Training': {'img_classification': {'loss': 0,\n",
       "   'accuracy': 0,\n",
       "   'normalization': 0},\n",
       "  'NoiseAdvTraining': {'loss': 0, 'normalization': 0}},\n",
       " 'Validation': {'img_classification': {'loss': 0,\n",
       "   'accuracy': 0,\n",
       "   'normalization': 0},\n",
       "  'NoiseAdvTraining': {'loss': 0, 'normalization': 0}},\n",
       " 'Test': {'NoiseAdvTraining': {'loss': 0, 'normalization': 0}}}"
      ]
     },
     "execution_count": 33,
     "metadata": {},
     "output_type": "execute_result"
    }
   ],
   "source": [
    "tracker.objectives"
   ]
  },
  {
   "cell_type": "code",
   "execution_count": 42,
   "metadata": {},
   "outputs": [
    {
     "data": {
      "text/plain": [
       "{'LR': [0.0003, 0.0003, 0.0003, 0],\n",
       " 'Training': {'img_classification': {'loss': [312.89678955078125,\n",
       "    477.7629699707031,\n",
       "    316.83843994140625,\n",
       "    0],\n",
       "   'accuracy': [1900, 1900, 1100, 0],\n",
       "   'normalization': [128, 128, 128, 0]},\n",
       "  'NoiseAdvTraining': {'loss': [3.6585111916065216,\n",
       "    5.0233617424964905,\n",
       "    1.6073499619960785,\n",
       "    0],\n",
       "   'normalization': [60, 60, 60, 0]}},\n",
       " 'Validation': {'img_classification': {'loss': [297.705322265625,\n",
       "    298.799072265625,\n",
       "    294.47955322265625,\n",
       "    292.99310302734375],\n",
       "   'accuracy': [2500, 1200, 3400, 2800],\n",
       "   'normalization': [128, 128, 128, 128]},\n",
       "  'NoiseAdvTraining': {'loss': [1.491750106215477,\n",
       "    1.491749994456768,\n",
       "    1.491749882698059,\n",
       "    1.491750106215477],\n",
       "   'normalization': [60, 60, 60, 60]}},\n",
       " 'Test': {'NoiseAdvTraining': {'loss': [0, 0, 0, 0],\n",
       "   'normalization': [0, 0, 0, 0]}}}"
      ]
     },
     "execution_count": 42,
     "metadata": {},
     "output_type": "execute_result"
    }
   ],
   "source": [
    "tracker.log"
   ]
  },
  {
   "cell_type": "code",
   "execution_count": 36,
   "metadata": {},
   "outputs": [
    {
     "data": {
      "text/plain": [
       "array([14.84375, 14.84375,  8.59375,      nan])"
      ]
     },
     "execution_count": 36,
     "metadata": {},
     "output_type": "execute_result"
    }
   ],
   "source": [
    "tracker.get_objective(\"LR\")\n",
    "tracker.get_objective(\"Training\",\"img_classification\",\"accuracy\")"
   ]
  },
  {
   "cell_type": "code",
   "execution_count": 5,
   "metadata": {},
   "outputs": [],
   "source": [
    "import torch\n",
    "import numpy as np"
   ]
  },
  {
   "cell_type": "code",
   "execution_count": 6,
   "metadata": {},
   "outputs": [],
   "source": [
    "from torchvision.datasets import SVHN\n",
    "from torchvision import transforms"
   ]
  },
  {
   "cell_type": "code",
   "execution_count": 7,
   "metadata": {},
   "outputs": [
    {
     "name": "stdout",
     "output_type": "stream",
     "text": [
      "Using downloaded and verified file: /work/train_32x32.mat\n"
     ]
    }
   ],
   "source": [
    "transform = transforms.Compose([\n",
    "        transforms.ToTensor(),\n",
    "#         transforms.Normalize((0.1307,), (0.3081,))\n",
    "        ])\n",
    "train = SVHN(\n",
    "            root=\"/work/\",\n",
    "            split=\"train\",\n",
    "            download=True,\n",
    "            transform=transform,\n",
    "        )"
   ]
  },
  {
   "cell_type": "code",
   "execution_count": 8,
   "metadata": {},
   "outputs": [
    {
     "data": {
      "text/plain": [
       "torch.Size([64, 3, 32, 32])"
      ]
     },
     "execution_count": 8,
     "metadata": {},
     "output_type": "execute_result"
    }
   ],
   "source": [
    "train_set = torch.utils.data.DataLoader(\n",
    "        train,\n",
    "        batch_size=64,\n",
    "        shuffle=False,\n",
    "    )\n",
    "next(iter(train_set))[0].shape"
   ]
  },
  {
   "cell_type": "code",
   "execution_count": 65,
   "metadata": {},
   "outputs": [],
   "source": [
    "mean = 0.\n",
    "std = 0.\n",
    "nb_samples = 0.\n",
    "data_ = []\n",
    "for data, _ in train_set:\n",
    "    data_.append(data)\n",
    "    batch_samples = data.size(0)\n",
    "    data = data.view(batch_samples, data.size(1), -1)\n",
    "    mean += data.mean(2).sum(0)\n",
    "    std += data.std(2).sum(0)\n",
    "    nb_samples += batch_samples\n",
    "\n",
    "mean /= nb_samples\n",
    "std /= nb_samples\n",
    "dataset = torch.cat(data_)"
   ]
  },
  {
   "cell_type": "code",
   "execution_count": 66,
   "metadata": {},
   "outputs": [
    {
     "name": "stdout",
     "output_type": "stream",
     "text": [
      "tensor([0.4377, 0.4438, 0.4728]) tensor([0.1201, 0.1231, 0.1052])\n"
     ]
    }
   ],
   "source": [
    "print(mean,std)"
   ]
  },
  {
   "cell_type": "code",
   "execution_count": 67,
   "metadata": {},
   "outputs": [],
   "source": [
    "std_ = dataset.std([0, 2, 3])\n",
    "mean_ = dataset.mean([0, 2, 3])"
   ]
  },
  {
   "cell_type": "code",
   "execution_count": 68,
   "metadata": {},
   "outputs": [
    {
     "data": {
      "text/plain": [
       "tensor([0.1980, 0.2010, 0.1970])"
      ]
     },
     "execution_count": 68,
     "metadata": {},
     "output_type": "execute_result"
    }
   ],
   "source": [
    "std_"
   ]
  },
  {
   "cell_type": "code",
   "execution_count": 69,
   "metadata": {},
   "outputs": [
    {
     "data": {
      "text/plain": [
       "tensor([0.4377, 0.4438, 0.4728])"
      ]
     },
     "execution_count": 69,
     "metadata": {},
     "output_type": "execute_result"
    }
   ],
   "source": [
    "mean_"
   ]
  },
  {
   "cell_type": "code",
   "execution_count": 70,
   "metadata": {},
   "outputs": [
    {
     "data": {
      "text/plain": [
       "torch.Size([73257, 3, 32, 32])"
      ]
     },
     "execution_count": 70,
     "metadata": {},
     "output_type": "execute_result"
    }
   ],
   "source": [
    "dataset.shape"
   ]
  },
  {
   "cell_type": "code",
   "execution_count": null,
   "metadata": {},
   "outputs": [],
   "source": []
  }
 ],
 "metadata": {
  "kernelspec": {
   "display_name": "Python 3",
   "language": "python",
   "name": "python3"
  },
  "language_info": {
   "codemirror_mode": {
    "name": "ipython",
    "version": 3
   },
   "file_extension": ".py",
   "mimetype": "text/x-python",
   "name": "python",
   "nbconvert_exporter": "python",
   "pygments_lexer": "ipython3",
   "version": "3.8.2"
  }
 },
 "nbformat": 4,
 "nbformat_minor": 4
}
