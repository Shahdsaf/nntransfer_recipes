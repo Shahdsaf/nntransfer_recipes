{
 "cells": [
  {
   "cell_type": "code",
   "execution_count": 1,
   "metadata": {},
   "outputs": [],
   "source": [
    "%matplotlib inline\n",
    "%load_ext autoreload\n",
    "%autoreload 2\n",
    "import sys\n",
    "import matplotlib.pyplot as plt\n",
    "import numpy as np\n",
    "import os\n",
    "from pathlib import Path"
   ]
  },
  {
   "cell_type": "markdown",
   "metadata": {},
   "source": [
    "### Load the experiment and corresponding libraries"
   ]
  },
  {
   "cell_type": "code",
   "execution_count": 2,
   "metadata": {},
   "outputs": [],
   "source": [
    "project_path = os.path.join(Path.home(), \"projects\")\n",
    "sys.path.append(project_path)  # enable import of \"bias_transfer_recipes\"\n",
    "os.chdir(os.path.join(project_path,\"bias_transfer_recipes/work/\"))"
   ]
  },
  {
   "cell_type": "code",
   "execution_count": 3,
   "metadata": {},
   "outputs": [
    {
     "name": "stdout",
     "output_type": "stream",
     "text": [
      "Connecting anix@datajoint-db.mlcloud.uni-tuebingen.de:3306\n"
     ]
    }
   ],
   "source": [
    "from bias_transfer_recipes.bias_transfer_recipes.main import load_experiment\n",
    "experiment = load_experiment(recipe=\"_2020_09_10_benchmark\", \n",
    "                             experiment=\"bias_transfer_benchmark\", \n",
    "                             schema=\"\",  # schema name will automatically be generated from recipe and experiment names \n",
    "                             base_dir=os.path.join(project_path,\"bias_transfer_recipes/bias_transfer_recipes/\"),\n",
    "                             import_prefix=\"bias_transfer_recipes.bias_transfer_recipes.\", \n",
    "                             dev_mode=True  \n",
    "                            )"
   ]
  },
  {
   "cell_type": "code",
   "execution_count": 4,
   "metadata": {},
   "outputs": [
    {
     "name": "stdout",
     "output_type": "stream",
     "text": [
      "Connecting anix@datajoint-db.mlcloud.uni-tuebingen.de:3306\n"
     ]
    },
    {
     "data": {
      "text/plain": [
       "Schema `bias_transfer__2020_09_10_benchmark`"
      ]
     },
     "execution_count": 4,
     "metadata": {},
     "output_type": "execute_result"
    }
   ],
   "source": [
    "from bias_transfer.tables.transfer import *\n",
    "from bias_transfer.tables.nnfabrik import *\n",
    "schema"
   ]
  },
  {
   "cell_type": "code",
   "execution_count": 5,
   "metadata": {},
   "outputs": [
    {
     "data": {
      "text/html": [
       "\n",
       "        \n",
       "        <style type=\"text/css\">\n",
       "            .Relation{\n",
       "                border-collapse:collapse;\n",
       "            }\n",
       "            .Relation th{\n",
       "                background: #A0A0A0; color: #ffffff; padding:4px; border:#f0e0e0 1px solid;\n",
       "                font-weight: normal; font-family: monospace; font-size: 100%;\n",
       "            }\n",
       "            .Relation td{\n",
       "                padding:4px; border:#f0e0e0 1px solid; font-size:100%;\n",
       "            }\n",
       "            .Relation tr:nth-child(odd){\n",
       "                background: #ffffff;\n",
       "            }\n",
       "            .Relation tr:nth-child(even){\n",
       "                background: #f3f1ff;\n",
       "            }\n",
       "            /* Tooltip container */\n",
       "            .djtooltip {\n",
       "            }\n",
       "            /* Tooltip text */\n",
       "            .djtooltip .djtooltiptext {\n",
       "                visibility: hidden;\n",
       "                width: 120px;\n",
       "                background-color: black;\n",
       "                color: #fff;\n",
       "                text-align: center;\n",
       "                padding: 5px 0;\n",
       "                border-radius: 6px;\n",
       "                /* Position the tooltip text - see examples below! */\n",
       "                position: absolute;\n",
       "                z-index: 1;\n",
       "            }\n",
       "            #primary {\n",
       "                font-weight: bold;\n",
       "                color: black;\n",
       "            }\n",
       "\n",
       "            #nonprimary {\n",
       "                font-weight: normal;\n",
       "                color: white;\n",
       "            }\n",
       "\n",
       "            /* Show the tooltip text when you mouse over the tooltip container */\n",
       "            .djtooltip:hover .djtooltiptext {\n",
       "                visibility: visible;\n",
       "            }\n",
       "        </style>\n",
       "        \n",
       "        <b>job reservation table for `bias_transfer__2020_09_10_benchmark`</b>\n",
       "            <div style=\"max-height:1000px;max-width:1500px;overflow:auto;\">\n",
       "            <table border=\"1\" class=\"Relation\">\n",
       "                <thead> <tr style=\"text-align: right;\"> <th> <div class=\"djtooltip\">\n",
       "                                <p id=\"primary\">table_name</p>\n",
       "                                <span class=\"djtooltiptext\">className of the table</span>\n",
       "                            </div></th><th><div class=\"djtooltip\">\n",
       "                                <p id=\"primary\">key_hash</p>\n",
       "                                <span class=\"djtooltiptext\">key hash</span>\n",
       "                            </div></th><th><div class=\"djtooltip\">\n",
       "                                <p id=\"nonprimary\">status</p>\n",
       "                                <span class=\"djtooltiptext\">if tuple is missing, the job is available</span>\n",
       "                            </div></th><th><div class=\"djtooltip\">\n",
       "                                <p id=\"nonprimary\">key</p>\n",
       "                                <span class=\"djtooltiptext\">structure containing the key</span>\n",
       "                            </div></th><th><div class=\"djtooltip\">\n",
       "                                <p id=\"nonprimary\">error_message</p>\n",
       "                                <span class=\"djtooltiptext\">error message returned if failed</span>\n",
       "                            </div></th><th><div class=\"djtooltip\">\n",
       "                                <p id=\"nonprimary\">error_stack</p>\n",
       "                                <span class=\"djtooltiptext\">error stack if failed</span>\n",
       "                            </div></th><th><div class=\"djtooltip\">\n",
       "                                <p id=\"nonprimary\">user</p>\n",
       "                                <span class=\"djtooltiptext\">database user</span>\n",
       "                            </div></th><th><div class=\"djtooltip\">\n",
       "                                <p id=\"nonprimary\">host</p>\n",
       "                                <span class=\"djtooltiptext\">system hostname</span>\n",
       "                            </div></th><th><div class=\"djtooltip\">\n",
       "                                <p id=\"nonprimary\">pid</p>\n",
       "                                <span class=\"djtooltiptext\">system process id</span>\n",
       "                            </div></th><th><div class=\"djtooltip\">\n",
       "                                <p id=\"nonprimary\">connection_id</p>\n",
       "                                <span class=\"djtooltiptext\">connection_id()</span>\n",
       "                            </div></th><th><div class=\"djtooltip\">\n",
       "                                <p id=\"nonprimary\">timestamp</p>\n",
       "                                <span class=\"djtooltiptext\">automatic timestamp</span>\n",
       "                            </div> </th> </tr> </thead>\n",
       "                <tbody> <tr> <td>__transferred_trained_model</td>\n",
       "<td>088769dcfe9cab43de6d32e5c734996f</td>\n",
       "<td>reserved</td>\n",
       "<td>=BLOB=</td>\n",
       "<td></td>\n",
       "<td>=BLOB=</td>\n",
       "<td>anix@134.2.168.25</td>\n",
       "<td>slurm-bm-35.novalocal</td>\n",
       "<td>263051</td>\n",
       "<td>1802277</td>\n",
       "<td>2020-11-24 13:51:16</td></tr><tr><td>__transferred_trained_model</td>\n",
       "<td>25540ce4d6b7916fe6c36da12c09e387</td>\n",
       "<td>reserved</td>\n",
       "<td>=BLOB=</td>\n",
       "<td></td>\n",
       "<td>=BLOB=</td>\n",
       "<td>anix@134.2.168.25</td>\n",
       "<td>slurm-bm-35.novalocal</td>\n",
       "<td>247121</td>\n",
       "<td>1791683</td>\n",
       "<td>2020-11-24 10:21:23</td></tr><tr><td>__transferred_trained_model</td>\n",
       "<td>3e0c0c4efc8abd72c6da4593a45dfb57</td>\n",
       "<td>reserved</td>\n",
       "<td>=BLOB=</td>\n",
       "<td></td>\n",
       "<td>=BLOB=</td>\n",
       "<td>anix@134.2.168.25</td>\n",
       "<td>slurm-bm-35.novalocal</td>\n",
       "<td>251343</td>\n",
       "<td>1794953</td>\n",
       "<td>2020-11-24 11:27:46</td></tr><tr><td>__transferred_trained_model</td>\n",
       "<td>3fb2cb8c7b0080bf7d0257a58eef7e72</td>\n",
       "<td>reserved</td>\n",
       "<td>=BLOB=</td>\n",
       "<td></td>\n",
       "<td>=BLOB=</td>\n",
       "<td>anix@134.2.168.25</td>\n",
       "<td>slurm-bm-35.novalocal</td>\n",
       "<td>247726</td>\n",
       "<td>1791944</td>\n",
       "<td>2020-11-24 10:25:46</td></tr><tr><td>__transferred_trained_model</td>\n",
       "<td>5a94ea2b3e07f928c2d5ced5aa42dc98</td>\n",
       "<td>reserved</td>\n",
       "<td>=BLOB=</td>\n",
       "<td></td>\n",
       "<td>=BLOB=</td>\n",
       "<td>anix@134.2.168.25</td>\n",
       "<td>slurm-bm-35.novalocal</td>\n",
       "<td>263116</td>\n",
       "<td>1802281</td>\n",
       "<td>2020-11-24 13:52:13</td></tr><tr><td>__transferred_trained_model</td>\n",
       "<td>fe372a18efac154a2a23d25a51528771</td>\n",
       "<td>error</td>\n",
       "<td>=BLOB=</td>\n",
       "<td>ModuleNotFoundError: No module named 'mlutils'</td>\n",
       "<td>=BLOB=</td>\n",
       "<td>anix@134.2.168.25</td>\n",
       "<td>slurm-bm-35.novalocal</td>\n",
       "<td>291996</td>\n",
       "<td>1830848</td>\n",
       "<td>2020-11-24 23:10:49</td> </tr> </tbody>\n",
       "            </table>\n",
       "            \n",
       "            <p>Total: 6</p></div>\n",
       "            "
      ],
      "text/plain": [
       "*table_name    *key_hash      status       key        error_message  error_stac user           host           pid        connection_id  timestamp     \n",
       "+------------+ +------------+ +----------+ +--------+ +------------+ +--------+ +------------+ +------------+ +--------+ +------------+ +------------+\n",
       "__transferred_ 088769dcfe9cab reserved     =BLOB=                    =BLOB=     anix@134.2.168 slurm-bm-35.no 263051     1802277        2020-11-24 13:\n",
       "__transferred_ 25540ce4d6b791 reserved     =BLOB=                    =BLOB=     anix@134.2.168 slurm-bm-35.no 247121     1791683        2020-11-24 10:\n",
       "__transferred_ 3e0c0c4efc8abd reserved     =BLOB=                    =BLOB=     anix@134.2.168 slurm-bm-35.no 251343     1794953        2020-11-24 11:\n",
       "__transferred_ 3fb2cb8c7b0080 reserved     =BLOB=                    =BLOB=     anix@134.2.168 slurm-bm-35.no 247726     1791944        2020-11-24 10:\n",
       "__transferred_ 5a94ea2b3e07f9 reserved     =BLOB=                    =BLOB=     anix@134.2.168 slurm-bm-35.no 263116     1802281        2020-11-24 13:\n",
       "__transferred_ fe372a18efac15 error        =BLOB=     ModuleNotFound =BLOB=     anix@134.2.168 slurm-bm-35.no 291996     1830848        2020-11-24 23:\n",
       " (Total: 6)"
      ]
     },
     "execution_count": 5,
     "metadata": {},
     "output_type": "execute_result"
    }
   ],
   "source": [
    "schema.jobs"
   ]
  },
  {
   "cell_type": "markdown",
   "metadata": {},
   "source": [
    "### Analyse the results"
   ]
  },
  {
   "cell_type": "code",
   "execution_count": 13,
   "metadata": {},
   "outputs": [],
   "source": [
    "from bias_transfer.analysis.results.analyzer_tracker import Analyzer\n",
    "import seaborn as sns\n",
    "import pandas as pd"
   ]
  },
  {
   "cell_type": "code",
   "execution_count": 18,
   "metadata": {},
   "outputs": [],
   "source": [
    "analysis = Analyzer()"
   ]
  },
  {
   "cell_type": "code",
   "execution_count": 19,
   "metadata": {},
   "outputs": [],
   "source": [
    "analysis.load_data(experiment.transfer_experiments, transfer_levels=(1,2,3))"
   ]
  },
  {
   "cell_type": "code",
   "execution_count": 20,
   "metadata": {},
   "outputs": [
    {
     "data": {
      "text/html": [
       "<div>\n",
       "<style scoped>\n",
       "    .dataframe tbody tr th:only-of-type {\n",
       "        vertical-align: middle;\n",
       "    }\n",
       "\n",
       "    .dataframe tbody tr th {\n",
       "        vertical-align: top;\n",
       "    }\n",
       "\n",
       "    .dataframe thead th {\n",
       "        text-align: right;\n",
       "    }\n",
       "</style>\n",
       "<table border=\"1\" class=\"dataframe\">\n",
       "  <thead>\n",
       "    <tr style=\"text-align: right;\">\n",
       "      <th></th>\n",
       "      <th>translation-&gt;clean</th>\n",
       "      <th>translation-&gt;clean normalized</th>\n",
       "      <th>translation</th>\n",
       "      <th>translation normalized</th>\n",
       "    </tr>\n",
       "    <tr>\n",
       "      <th>name</th>\n",
       "      <th></th>\n",
       "      <th></th>\n",
       "      <th></th>\n",
       "      <th></th>\n",
       "    </tr>\n",
       "  </thead>\n",
       "  <tbody>\n",
       "    <tr>\n",
       "      <th>Direct Training A</th>\n",
       "      <td>33.533353</td>\n",
       "      <td>100.000000</td>\n",
       "      <td>NaN</td>\n",
       "      <td>NaN</td>\n",
       "    </tr>\n",
       "    <tr>\n",
       "      <th>Direct Training B</th>\n",
       "      <td>NaN</td>\n",
       "      <td>NaN</td>\n",
       "      <td>82.718272</td>\n",
       "      <td>100.000000</td>\n",
       "    </tr>\n",
       "    <tr>\n",
       "      <th>Transfer (Finetune)</th>\n",
       "      <td>88.998900</td>\n",
       "      <td>265.404116</td>\n",
       "      <td>51.835184</td>\n",
       "      <td>62.664732</td>\n",
       "    </tr>\n",
       "    <tr>\n",
       "      <th>Transfer (KnowledgeDistillation)</th>\n",
       "      <td>75.157516</td>\n",
       "      <td>224.127647</td>\n",
       "      <td>15.821582</td>\n",
       "      <td>19.127070</td>\n",
       "    </tr>\n",
       "    <tr>\n",
       "      <th>Transfer (RDL)</th>\n",
       "      <td>88.678868</td>\n",
       "      <td>264.449746</td>\n",
       "      <td>22.742274</td>\n",
       "      <td>27.493653</td>\n",
       "    </tr>\n",
       "  </tbody>\n",
       "</table>\n",
       "</div>"
      ],
      "text/plain": [
       "                                  translation->clean  \\\n",
       "name                                                   \n",
       "Direct Training A                          33.533353   \n",
       "Direct Training B                                NaN   \n",
       "Transfer (Finetune)                        88.998900   \n",
       "Transfer (KnowledgeDistillation)           75.157516   \n",
       "Transfer (RDL)                             88.678868   \n",
       "\n",
       "                                  translation->clean normalized  translation  \\\n",
       "name                                                                           \n",
       "Direct Training A                                    100.000000          NaN   \n",
       "Direct Training B                                           NaN    82.718272   \n",
       "Transfer (Finetune)                                  265.404116    51.835184   \n",
       "Transfer (KnowledgeDistillation)                     224.127647    15.821582   \n",
       "Transfer (RDL)                                       264.449746    22.742274   \n",
       "\n",
       "                                  translation normalized  \n",
       "name                                                      \n",
       "Direct Training A                                    NaN  \n",
       "Direct Training B                             100.000000  \n",
       "Transfer (Finetune)                            62.664732  \n",
       "Transfer (KnowledgeDistillation)               19.127070  \n",
       "Transfer (RDL)                                 27.493653  "
      ]
     },
     "execution_count": 20,
     "metadata": {},
     "output_type": "execute_result"
    }
   ],
   "source": [
    "analysis.generate_normalized_table()"
   ]
  },
  {
   "cell_type": "code",
   "execution_count": 21,
   "metadata": {},
   "outputs": [
    {
     "name": "stderr",
     "output_type": "stream",
     "text": [
      "No handles with labels found to put in legend.\n"
     ]
    },
    {
     "data": {
      "image/png": "[encoded data removed]",
      "text/plain": [
       "<Figure size 996.264x615.725 with 4 Axes>"
      ]
     },
     "metadata": {},
     "output_type": "display_data"
    }
   ],
   "source": [
    "analysis.plot_frontier()"
   ]
  },
  {
   "cell_type": "code",
   "execution_count": 40,
   "metadata": {},
   "outputs": [
    {
     "name": "stdout",
     "output_type": "stream",
     "text": [
      "L 1\n",
      "L 2\n",
      "L 2\n",
      "L 1\n",
      "L 1\n"
     ]
    },
    {
     "data": {
      "image/png": "[encoded data removed]",
      "text/plain": [
       "<Figure size 996.264x615.725 with 1 Axes>"
      ]
     },
     "metadata": {},
     "output_type": "display_data"
    }
   ],
   "source": [
    "analysis.plot(\n",
    "    to_plot=(\"Training\",\"img_classification\",\"accuracy\"), \n",
    "        save=\"\",\n",
    "        style=\"lightpaper\",\n",
    "    plot_method=\"line\",\n",
    "    level=0\n",
    "#     legend_outside=False\n",
    "       )"
   ]
  },
  {
   "cell_type": "code",
   "execution_count": 28,
   "metadata": {},
   "outputs": [
    {
     "name": "stdout",
     "output_type": "stream",
     "text": [
      "> \u001b[0;32m/home/anix/projects/ml-utils/mlutils/tracking.py\u001b[0m(199)\u001b[0;36m_get_objective\u001b[0;34m()\u001b[0m\n",
      "\u001b[0;32m    197 \u001b[0;31m    \u001b[0;32mdef\u001b[0m \u001b[0m_get_objective\u001b[0m\u001b[0;34m(\u001b[0m\u001b[0mself\u001b[0m\u001b[0;34m,\u001b[0m \u001b[0mlog\u001b[0m\u001b[0;34m,\u001b[0m \u001b[0mkeys\u001b[0m\u001b[0;34m)\u001b[0m\u001b[0;34m:\u001b[0m\u001b[0;34m\u001b[0m\u001b[0;34m\u001b[0m\u001b[0m\n",
      "\u001b[0m\u001b[0;32m    198 \u001b[0;31m        \u001b[0;32mif\u001b[0m \u001b[0mlen\u001b[0m\u001b[0;34m(\u001b[0m\u001b[0mkeys\u001b[0m\u001b[0;34m)\u001b[0m \u001b[0;34m>\u001b[0m \u001b[0;36m1\u001b[0m\u001b[0;34m:\u001b[0m\u001b[0;34m\u001b[0m\u001b[0;34m\u001b[0m\u001b[0m\n",
      "\u001b[0m\u001b[0;32m--> 199 \u001b[0;31m            \u001b[0;32mreturn\u001b[0m \u001b[0mself\u001b[0m\u001b[0;34m.\u001b[0m\u001b[0m_get_objective\u001b[0m\u001b[0;34m(\u001b[0m\u001b[0mlog\u001b[0m\u001b[0;34m[\u001b[0m\u001b[0mkeys\u001b[0m\u001b[0;34m[\u001b[0m\u001b[0;36m0\u001b[0m\u001b[0;34m]\u001b[0m\u001b[0;34m]\u001b[0m\u001b[0;34m,\u001b[0m \u001b[0mkeys\u001b[0m\u001b[0;34m[\u001b[0m\u001b[0;36m1\u001b[0m\u001b[0;34m:\u001b[0m\u001b[0;34m]\u001b[0m\u001b[0;34m)\u001b[0m\u001b[0;34m\u001b[0m\u001b[0;34m\u001b[0m\u001b[0m\n",
      "\u001b[0m\u001b[0;32m    200 \u001b[0;31m        \u001b[0;32melse\u001b[0m\u001b[0;34m:\u001b[0m\u001b[0;34m\u001b[0m\u001b[0;34m\u001b[0m\u001b[0m\n",
      "\u001b[0m\u001b[0;32m    201 \u001b[0;31m            \u001b[0;32mreturn\u001b[0m \u001b[0mlog\u001b[0m\u001b[0;34m[\u001b[0m\u001b[0mkeys\u001b[0m\u001b[0;34m[\u001b[0m\u001b[0;36m0\u001b[0m\u001b[0;34m]\u001b[0m\u001b[0;34m]\u001b[0m\u001b[0;34m\u001b[0m\u001b[0;34m\u001b[0m\u001b[0m\n",
      "\u001b[0m\n"
     ]
    },
    {
     "name": "stdin",
     "output_type": "stream",
     "text": [
      "ipdb>  u\n"
     ]
    },
    {
     "name": "stdout",
     "output_type": "stream",
     "text": [
      "> \u001b[0;32m/home/anix/projects/ml-utils/mlutils/tracking.py\u001b[0m(204)\u001b[0;36mget_objective\u001b[0;34m()\u001b[0m\n",
      "\u001b[0;32m    202 \u001b[0;31m\u001b[0;34m\u001b[0m\u001b[0m\n",
      "\u001b[0m\u001b[0;32m    203 \u001b[0;31m    \u001b[0;32mdef\u001b[0m \u001b[0mget_objective\u001b[0m\u001b[0;34m(\u001b[0m\u001b[0mself\u001b[0m\u001b[0;34m,\u001b[0m \u001b[0;34m*\u001b[0m\u001b[0mkeys\u001b[0m\u001b[0;34m)\u001b[0m\u001b[0;34m:\u001b[0m\u001b[0;34m\u001b[0m\u001b[0;34m\u001b[0m\u001b[0m\n",
      "\u001b[0m\u001b[0;32m--> 204 \u001b[0;31m        \u001b[0;32mreturn\u001b[0m \u001b[0mself\u001b[0m\u001b[0;34m.\u001b[0m\u001b[0m_get_objective\u001b[0m\u001b[0;34m(\u001b[0m\u001b[0mself\u001b[0m\u001b[0;34m.\u001b[0m\u001b[0m_normalize_log\u001b[0m\u001b[0;34m(\u001b[0m\u001b[0mself\u001b[0m\u001b[0;34m.\u001b[0m\u001b[0mlog\u001b[0m\u001b[0;34m)\u001b[0m\u001b[0;34m,\u001b[0m \u001b[0mkeys\u001b[0m\u001b[0;34m)\u001b[0m\u001b[0;34m\u001b[0m\u001b[0;34m\u001b[0m\u001b[0m\n",
      "\u001b[0m\u001b[0;32m    205 \u001b[0;31m\u001b[0;34m\u001b[0m\u001b[0m\n",
      "\u001b[0m\u001b[0;32m    206 \u001b[0;31m    \u001b[0;32mdef\u001b[0m \u001b[0mget_current_objective\u001b[0m\u001b[0;34m(\u001b[0m\u001b[0mself\u001b[0m\u001b[0;34m,\u001b[0m \u001b[0;34m*\u001b[0m\u001b[0mkeys\u001b[0m\u001b[0;34m)\u001b[0m\u001b[0;34m:\u001b[0m\u001b[0;34m\u001b[0m\u001b[0;34m\u001b[0m\u001b[0m\n",
      "\u001b[0m\n"
     ]
    },
    {
     "name": "stdin",
     "output_type": "stream",
     "text": [
      "ipdb>  u\n"
     ]
    },
    {
     "name": "stdout",
     "output_type": "stream",
     "text": [
      "> \u001b[0;32m/home/anix/projects/bias_transfer/bias_transfer/analysis/results/analyzer_tracker.py\u001b[0m(308)\u001b[0;36mplot\u001b[0;34m()\u001b[0m\n",
      "\u001b[0;32m    306 \u001b[0;31m            \u001b[0mrow_list\u001b[0m \u001b[0;34m=\u001b[0m \u001b[0;34m[\u001b[0m\u001b[0;34m]\u001b[0m\u001b[0;34m\u001b[0m\u001b[0;34m\u001b[0m\u001b[0m\n",
      "\u001b[0m\u001b[0;32m    307 \u001b[0;31m            \u001b[0;32mfor\u001b[0m \u001b[0mdesc\u001b[0m\u001b[0;34m,\u001b[0m \u001b[0mtracker\u001b[0m \u001b[0;32min\u001b[0m \u001b[0mself\u001b[0m\u001b[0;34m.\u001b[0m\u001b[0mdata\u001b[0m\u001b[0;34m.\u001b[0m\u001b[0mitems\u001b[0m\u001b[0;34m(\u001b[0m\u001b[0;34m)\u001b[0m\u001b[0;34m:\u001b[0m\u001b[0;34m\u001b[0m\u001b[0;34m\u001b[0m\u001b[0m\n",
      "\u001b[0m\u001b[0;32m--> 308 \u001b[0;31m                \u001b[0mrow\u001b[0m \u001b[0;34m=\u001b[0m \u001b[0;34m{\u001b[0m\u001b[0;34m\"name\"\u001b[0m\u001b[0;34m:\u001b[0m \u001b[0mdesc\u001b[0m\u001b[0;34m.\u001b[0m\u001b[0mname\u001b[0m\u001b[0;34m,\u001b[0m \u001b[0mto_plot\u001b[0m\u001b[0;34m[\u001b[0m\u001b[0;34m-\u001b[0m\u001b[0;36m1\u001b[0m\u001b[0;34m]\u001b[0m\u001b[0;34m:\u001b[0m \u001b[0mtracker\u001b[0m\u001b[0;34m[\u001b[0m\u001b[0mlevel\u001b[0m\u001b[0;34m]\u001b[0m\u001b[0;34m.\u001b[0m\u001b[0mget_objective\u001b[0m\u001b[0;34m(\u001b[0m\u001b[0;34m*\u001b[0m\u001b[0mto_plot\u001b[0m\u001b[0;34m)\u001b[0m\u001b[0;34m}\u001b[0m\u001b[0;34m\u001b[0m\u001b[0;34m\u001b[0m\u001b[0m\n",
      "\u001b[0m\u001b[0;32m    309 \u001b[0;31m                \u001b[0mrow_list\u001b[0m\u001b[0;34m.\u001b[0m\u001b[0mappend\u001b[0m\u001b[0;34m(\u001b[0m\u001b[0mrow\u001b[0m\u001b[0;34m)\u001b[0m\u001b[0;34m\u001b[0m\u001b[0;34m\u001b[0m\u001b[0m\n",
      "\u001b[0m\u001b[0;32m    310 \u001b[0;31m            \u001b[0mdf\u001b[0m \u001b[0;34m=\u001b[0m \u001b[0mpd\u001b[0m\u001b[0;34m.\u001b[0m\u001b[0mDataFrame\u001b[0m\u001b[0;34m(\u001b[0m\u001b[0mrow_list\u001b[0m\u001b[0;34m)\u001b[0m\u001b[0;34m\u001b[0m\u001b[0;34m\u001b[0m\u001b[0m\n",
      "\u001b[0m\n"
     ]
    },
    {
     "name": "stdin",
     "output_type": "stream",
     "text": [
      "ipdb>  d\n"
     ]
    },
    {
     "name": "stdout",
     "output_type": "stream",
     "text": [
      "> \u001b[0;32m/home/anix/projects/ml-utils/mlutils/tracking.py\u001b[0m(204)\u001b[0;36mget_objective\u001b[0;34m()\u001b[0m\n",
      "\u001b[0;32m    202 \u001b[0;31m\u001b[0;34m\u001b[0m\u001b[0m\n",
      "\u001b[0m\u001b[0;32m    203 \u001b[0;31m    \u001b[0;32mdef\u001b[0m \u001b[0mget_objective\u001b[0m\u001b[0;34m(\u001b[0m\u001b[0mself\u001b[0m\u001b[0;34m,\u001b[0m \u001b[0;34m*\u001b[0m\u001b[0mkeys\u001b[0m\u001b[0;34m)\u001b[0m\u001b[0;34m:\u001b[0m\u001b[0;34m\u001b[0m\u001b[0;34m\u001b[0m\u001b[0m\n",
      "\u001b[0m\u001b[0;32m--> 204 \u001b[0;31m        \u001b[0;32mreturn\u001b[0m \u001b[0mself\u001b[0m\u001b[0;34m.\u001b[0m\u001b[0m_get_objective\u001b[0m\u001b[0;34m(\u001b[0m\u001b[0mself\u001b[0m\u001b[0;34m.\u001b[0m\u001b[0m_normalize_log\u001b[0m\u001b[0;34m(\u001b[0m\u001b[0mself\u001b[0m\u001b[0;34m.\u001b[0m\u001b[0mlog\u001b[0m\u001b[0;34m)\u001b[0m\u001b[0;34m,\u001b[0m \u001b[0mkeys\u001b[0m\u001b[0;34m)\u001b[0m\u001b[0;34m\u001b[0m\u001b[0;34m\u001b[0m\u001b[0m\n",
      "\u001b[0m\u001b[0;32m    205 \u001b[0;31m\u001b[0;34m\u001b[0m\u001b[0m\n",
      "\u001b[0m\u001b[0;32m    206 \u001b[0;31m    \u001b[0;32mdef\u001b[0m \u001b[0mget_current_objective\u001b[0m\u001b[0;34m(\u001b[0m\u001b[0mself\u001b[0m\u001b[0;34m,\u001b[0m \u001b[0;34m*\u001b[0m\u001b[0mkeys\u001b[0m\u001b[0;34m)\u001b[0m\u001b[0;34m:\u001b[0m\u001b[0;34m\u001b[0m\u001b[0;34m\u001b[0m\u001b[0m\n",
      "\u001b[0m\n"
     ]
    },
    {
     "name": "stdin",
     "output_type": "stream",
     "text": [
      "ipdb>  self.log\n"
     ]
    },
    {
     "name": "stdout",
     "output_type": "stream",
     "text": [
      "{'LR': [0.0003, 0.0003, 0.0003, 0.0003, 0.0003, 0.0003, 0.0003, 0.0003, 0.0003, 0.0003, 0.0003, 0.0003, 0.0003, 0.0003, 0.0003, 0.0003, 0.0003, 0.0003, 0.0003, 0.0003, 0.0003, 0.0003, 0.0003, 0.0003, 0.0003, 0.0003, 0.0003, 0.0003, 0.0003, 0.0003, 0.0003, 0.0003, 0.0003, 0.0003, 0.0003, 0.0003, 0.0003, 0.0003, 0.0003, 0.0003, 0.0003, 0.0003, 0.0003, 0.0003, 0.0003, 0.0003, 0.0003, 0.0003, 0.0003, 0.0003, 0.0003, 0.0003, 0.0003, 0.0003, 0.0003, 0.0003, 0.0003, 0.0003, 0.0003, 0.0003, 0.0003, 0.0003, 0.0003, 0.0003, 0.0003, 0.0003, 0.0003, 0.0003, 0.0003, 0.0003, 0.0003, 0.0003, 0.0003, 0.0003, 0.0003, 0.0003, 0.0003, 0.0003, 0.0003, 0.0003, 0.0003, 0.0003, 0.0003, 0.0003, 0.0003, 0.0003, 0.0003, 0.0003, 0.0003, 0.0003, 0.0003, 0.0003, 0.0003, 0.0003, 0.0003, 0.0003, 0.0003, 0.0003, 0.0003, 0.0003, 0], 'Training': {'img_classification': {'loss': [31312.63894510269, 20828.344340324402, 18067.55685687065, 16585.969840049744, 15425.78596496582, 14630.419429779053, 13819.452621459961, 13212.265001773834, 12627.935394763947, 12064.77215719223, 11538.760115385056, 11218.592632293701, 10705.410739421844, 10410.368989229202, 9940.031558513641, 9567.358194112778, 9282.369693040848, 8895.859011173248, 8680.113684415817, 8341.709102153778, 8006.7342031002045, 7831.458859205246, 7559.39853143692, 7211.251398205757, 7076.190891027451, 6827.162401914597, 6668.544143676758, 6307.51231110096, 6133.943930864334, 5915.379099369049, 5726.717574119568, 5626.330138921738, 5501.5243663191795, 5147.57914686203, 5135.887652516365, 4839.86286008358, 4812.229177355766, 4685.086484789848, 4406.11477035284, 4317.214091658592, 4225.614894986153, 4150.417961716652, 3940.749115586281, 3727.1195954084396, 3800.3129289746284, 3648.650216460228, 3454.4841825962067, 3338.569524347782, 3371.8274171948433, 3324.6117852926254, 3088.9847697019577, 3032.0414992570877, 2973.5440121889114, 2861.0255467891693, 2753.1190016269684, 2754.9080342054367, 2682.0179201960564, 2558.195181250572, 2410.4743817448616, 2742.258493423462, 2313.9803762435913, 2287.651132762432, 2489.021722793579, 2169.59227001667, 2138.5709138810635, 1986.1134504675865, 1958.3660645484924, 1850.7563457638025, 1995.2184711694717, 2009.6555568873882, 1902.138038098812, 1824.5147194564342, 1787.9902911484241, 1655.7970388829708, 1727.3978316187859, 1709.2999787330627, 1507.2342151105404, 1568.54838514328, 1610.3423920869827, 1586.7591136693954, 1502.304436802864, 1476.6404730677605, 1520.2864291667938, 1524.0618499815464, 1588.9937005341053, 1440.183500945568, 1352.0217069089413, 1290.5591197609901, 1171.5614359378815, 1688.9751622974873, 1321.1525520086288, 1208.1281359791756, 1068.5679159536958, 1276.9895683526993, 1131.4762344956398, 936.3525021970272, 1698.5416578054428, 1178.7424869909883, 812.0389963537455, 1160.5795529931784, 0], 'accuracy': [4585800, 4697500, 4761900, 4805100, 4837100, 4858500, 4888900, 4906400, 4932600, 4947400, 4972300, 4980800, 5003400, 5011400, 5034100, 5045500, 5052100, 5065800, 5076700, 5090200, 5099600, 5111300, 5124500, 5138900, 5138600, 5144900, 5154700, 5170100, 5175600, 5186000, 5187400, 5194100, 5199500, 5214000, 5210900, 5223000, 5227200, 5232500, 5238300, 5244300, 5249100, 5251800, 5253800, 5267900, 5262000, 5271200, 5277800, 5284100, 5281300, 5281300, 5289800, 5292600, 5295500, 5298000, 5300500, 5301200, 5308700, 5313400, 5315700, 5303100, 5319900, 5318500, 5313900, 5323900, 5326600, 5330500, 5329700, 5336100, 5327700, 5328000, 5335500, 5337800, 5337700, 5343800, 5341900, 5343300, 5348700, 5347100, 5343900, 5344800, 5346700, 5347200, 5348000, 5347700, 5348700, 5350500, 5355900, 5355700, 5359900, 5340700, 5357400, 5359800, 5363800, 5353700, 5362100, 5367900, 5338900, 5361700, 5376200, 5360200, 0], 'normalization': [54000, 54000, 54000, 54000, 54000, 54000, 54000, 54000, 54000, 54000, 54000, 54000, 54000, 54000, 54000, 54000, 54000, 54000, 54000, 54000, 54000, 54000, 54000, 54000, 54000, 54000, 54000, 54000, 54000, 54000, 54000, 54000, 54000, 54000, 54000, 54000, 54000, 54000, 54000, 54000, 54000, 54000, 54000, 54000, 54000, 54000, 54000, 54000, 54000, 54000, 54000, 54000, 54000, 54000, 54000, 54000, 54000, 54000, 54000, 54000, 54000, 54000, 54000, 54000, 54000, 54000, 54000, 54000, 54000, 54000, 54000, 54000, 54000, 54000, 54000, 54000, 54000, 54000, 54000, 54000, 54000, 54000, 54000, 54000, 54000, 54000, 54000, 54000, 54000, 54000, 54000, 54000, 54000, 54000, 54000, 54000, 54000, 54000, 54000, 54000, 0]}}, 'Validation': {'img_classification': {'loss': [5747.157006859779, 2770.892058432102, 2410.6666866242886, 2217.7667015194893, 2191.9313826560974, 2103.1289433538914, 2071.4317541122437, 2093.6076079905033, 2005.269044816494, 1967.4227592349052, 1933.3802290558815, 1915.9906648397446, 1931.1459756940603, 1952.7252828776836, 1919.7950912415981, 1924.1511700749397, 1955.7922096252441, 1980.3970549702644, 1974.2726043611765, 1980.9701723754406, 2003.9040202498436, 2017.2452310621738, 1975.1956596523523, 2104.568469852209, 2026.0222233831882, 2058.0240573883057, 2142.4893179237843, 2140.328509017825, 2005.8912400007248, 2090.2732023596764, 2158.431622594595, 2162.58834451437, 2203.9542306661606, 2200.7534586787224, 2195.103858023882, 2329.1858483999968, 2252.057471573353, 2307.873093485832, 2375.111759752035, 2313.938115030527, 2467.9085167348385, 2323.9707235097885, 2585.3402057886124, 2445.572026312351, 2503.8359735012054, 2481.209810525179, 2655.130103766918, 2785.6425226926804, 2554.3693771362305, 2564.769654273987, 2685.354207456112, 2724.025479108095, 2728.5016227960587, 2745.151716977358, 2707.5613257586956, 2888.4002294540405, 2888.1388593912125, 2763.967283964157, 3048.31867480278, 2863.3948100805283, 3108.9694774746895, 3016.6338264644146, 3014.374815762043, 3076.517924964428, 3050.211641162634, 3086.0350552797318, 3200.2351181805134, 3143.534144550562, 3171.556271791458, 3250.3798081874847, 3156.5593975782394, 3377.7891068160534, 3302.128382861614, 3341.508527159691, 3221.393511414528, 3258.014684945345, 3321.660537004471, 3347.2285190820694, 3345.2409657239914, 3366.5576211214066, 3471.309533417225, 3408.9830265939236, 3601.964412033558, 3560.2605913579464, 3572.7222245037556, 3719.036686003208, 3561.810769587755, 3547.5571868419647, 3669.1340630948544, 3823.732767999172, 3825.1836532354355, 3670.6540133059025, 3724.615217268467, 3849.1687334775925, 3816.1902216672897, 3783.7451303601265, 3771.593645453453, 4092.634768784046, 3787.171996176243, 4018.286902666092, 3947.057138323784], 'accuracy': [504700, 513600, 518800, 524200, 526100, 527500, 528700, 529600, 532400, 533100, 533600, 534100, 535300, 534300, 534900, 535100, 534500, 536400, 534400, 534000, 536400, 535400, 534600, 533200, 536700, 535800, 533500, 534500, 539300, 537300, 536000, 535700, 534900, 537400, 537800, 535400, 536500, 534700, 534600, 536600, 532600, 538100, 535100, 537000, 536200, 536700, 536700, 532500, 535900, 538900, 535700, 534500, 533900, 533800, 536800, 536200, 535600, 538700, 532600, 534700, 533200, 535900, 535000, 535200, 538000, 537500, 533800, 535300, 537500, 533800, 538900, 533000, 534700, 536900, 536800, 537900, 538100, 536500, 538100, 536400, 534300, 536200, 535100, 537000, 534900, 532500, 535200, 534600, 534400, 536200, 532700, 535100, 538000, 534900, 536600, 535100, 535800, 530900, 535200, 534500, 535500], 'normalization': [5999, 5999, 5999, 5999, 5999, 5999, 5999, 5999, 5999, 5999, 5999, 5999, 5999, 5999, 5999, 5999, 5999, 5999, 5999, 5999, 5999, 5999, 5999, 5999, 5999, 5999, 5999, 5999, 5999, 5999, 5999, 5999, 5999, 5999, 5999, 5999, 5999, 5999, 5999, 5999, 5999, 5999, 5999, 5999, 5999, 5999, 5999, 5999, 5999, 5999, 5999, 5999, 5999, 5999, 5999, 5999, 5999, 5999, 5999, 5999, 5999, 5999, 5999, 5999, 5999, 5999, 5999, 5999, 5999, 5999, 5999, 5999, 5999, 5999, 5999, 5999, 5999, 5999, 5999, 5999, 5999, 5999, 5999, 5999, 5999, 5999, 5999, 5999, 5999, 5999, 5999, 5999, 5999, 5999, 5999, 5999, 5999, 5999, 5999, 5999, 5999]}, 'patience': [0, -1, -1, -1, -1, -1, -1, -1, -1, -1, -1, -1, -1, 0, 1, 2, 3, 3, 0, 1, 2, 3, 4, 5, 5, 0, 1, 2, 2, 0, 1, 2, 3, 4, 5, 6, 7, 8, 9, 10, 11, 12, 13, 14, 15, 16, 17, 18, 19, 20, 21, 22, 23, 24, 25, 26, 27, 28, 29, 30, 31, 32, 33, 34, 35, 36, 37, 38, 39, 40, 41, 42, 43, 44, 45, 46, 47, 48, 49, 50, 51, 52, 53, 54, 55, 56, 57, 58, 59, 60, 61, 62, 63, 64, 65, 66, 67, 68, 69, 70, 71]}, 'Test': {'img_classification': {'accuracy': [0, 0, 0, 0, 0, 0, 0, 0, 0, 0, 0, 0, 0, 0, 0, 0, 0, 0, 0, 0, 0, 0, 0, 0, 0, 0, 0, 0, 0, 0, 0, 0, 0, 0, 0, 0, 0, 0, 0, 0, 0, 0, 0, 0, 0, 0, 0, 0, 0, 0, 0, 0, 0, 0, 0, 0, 0, 0, 0, 0, 0, 0, 0, 0, 0, 0, 0, 0, 0, 0, 0, 0, 0, 0, 0, 0, 0, 0, 0, 0, 0, 0, 0, 0, 0, 0, 0, 0, 0, 0, 0, 0, 0, 0, 0, 0, 0, 0, 0, 0, 889900], 'loss': [0, 0, 0, 0, 0, 0, 0, 0, 0, 0, 0, 0, 0, 0, 0, 0, 0, 0, 0, 0, 0, 0, 0, 0, 0, 0, 0, 0, 0, 0, 0, 0, 0, 0, 0, 0, 0, 0, 0, 0, 0, 0, 0, 0, 0, 0, 0, 0, 0, 0, 0, 0, 0, 0, 0, 0, 0, 0, 0, 0, 0, 0, 0, 0, 0, 0, 0, 0, 0, 0, 0, 0, 0, 0, 0, 0, 0, 0, 0, 0, 0, 0, 0, 0, 0, 0, 0, 0, 0, 0, 0, 0, 0, 0, 0, 0, 0, 0, 0, 0, 7545.1305154562], 'normalization': [0, 0, 0, 0, 0, 0, 0, 0, 0, 0, 0, 0, 0, 0, 0, 0, 0, 0, 0, 0, 0, 0, 0, 0, 0, 0, 0, 0, 0, 0, 0, 0, 0, 0, 0, 0, 0, 0, 0, 0, 0, 0, 0, 0, 0, 0, 0, 0, 0, 0, 0, 0, 0, 0, 0, 0, 0, 0, 0, 0, 0, 0, 0, 0, 0, 0, 0, 0, 0, 0, 0, 0, 0, 0, 0, 0, 0, 0, 0, 0, 0, 0, 0, 0, 0, 0, 0, 0, 0, 0, 0, 0, 0, 0, 0, 0, 0, 0, 0, 0, 9999]}}}\n"
     ]
    },
    {
     "name": "stdin",
     "output_type": "stream",
     "text": [
      "ipdb>  q\n"
     ]
    }
   ],
   "source": [
    "%debug"
   ]
  },
  {
   "cell_type": "code",
   "execution_count": null,
   "metadata": {},
   "outputs": [],
   "source": []
  }
 ],
 "metadata": {
  "kernelspec": {
   "display_name": "Python 3",
   "language": "python",
   "name": "python3"
  },
  "language_info": {
   "codemirror_mode": {
    "name": "ipython",
    "version": 3
   },
   "file_extension": ".py",
   "mimetype": "text/x-python",
   "name": "python",
   "nbconvert_exporter": "python",
   "pygments_lexer": "ipython3",
   "version": "3.8.2"
  }
 },
 "nbformat": 4,
 "nbformat_minor": 4
}
